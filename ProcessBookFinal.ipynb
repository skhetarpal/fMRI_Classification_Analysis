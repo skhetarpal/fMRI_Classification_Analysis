{
 "metadata": {
  "name": "",
  "signature": "sha256:4692330e51c2d700724e0103f5b7e00ff29a408a7b441bf609579a0c1a624b22"
 },
 "nbformat": 3,
 "nbformat_minor": 0,
 "worksheets": [
  {
   "cells": [
    {
     "cell_type": "markdown",
     "metadata": {},
     "source": [
      "Suraj Khetarpal\n",
      "CS-E109 Final Project Process Book"
     ]
    },
    {
     "cell_type": "code",
     "collapsed": false,
     "input": [
      "Files can be found on https://www.dropbox.com/sh/flpjf6guzsl1skc/AABORWPYwFaTrlu_YQP0x2Uua?dl=0"
     ],
     "language": "python",
     "metadata": {},
     "outputs": []
    },
    {
     "cell_type": "code",
     "collapsed": false,
     "input": [
      "import numpy as np\n",
      "import pandas as pd\n",
      "import matplotlib.pyplot as plt\n",
      "%matplotlib inline\n",
      "import scipy.io\n",
      "import os\n",
      "os.chdir(\"C:\\\\Users\\\\maryfraw\\\\Desktop\\\\CS109\\\\Final Project\")\n",
      "import sklearn\n",
      "import sklearn.neighbors\n",
      "from sklearn import cross_validation\n",
      "import seaborn as sns\n",
      "import random\n",
      "import sklearn.tree\n",
      "from sklearn.ensemble import RandomForestClassifier\n",
      "from sklearn import svm\n",
      "from sklearn.naive_bayes import GaussianNB\n",
      "from sklearn.naive_bayes import MultinomialNB\n",
      "from sklearn.naive_bayes import BernoulliNB"
     ],
     "language": "python",
     "metadata": {},
     "outputs": [],
     "prompt_number": 1
    },
    {
     "cell_type": "markdown",
     "metadata": {},
     "source": [
      "## Overview and Motivation\n",
      "\n",
      "I am very interested in artificial intelligence and its application to medicine and medical research.  I am also excited by the possibility of using machine learning to develop tools that will help people to better understand the human brain.  Hopefully, by better understanding how the brain learns, we will be able to develop better machine learning methodologies (and vice versa). Research in this area can be used to better understand how the brain processes information and how it learns.  For example, if we have good prediction models for brain activity, we can use this to determine when a baby monkey's brain is starting to recognize different types of visual stimuli.  This could help us to understand how a baby monkey's brain develops in the first place.  The possible benefits from this are limitless.\n",
      "\n",
      "This is why I have decided to make this project about regression analysis and machine learning using fMTI brain scan data.  I will be using fMRI scans that were taken while monkeys were shown different types of visual stimuli.  These experiments were done on monkeys rather than humans for legal reasons.  Using the results of the scans, I will use regression analysis and machine learning to develop a classifier that can accurately predict a visual stimulus based on a monkey's fMRI brain activity.\n",
      "\n",
      "I would like this project to include:\n",
      "1. A program to read in fMRI experimentation data, convert it into a usable format, perform data wrangling, and create concise data structures that are suitable for my analysis.\n",
      "2. A regression analysis to create beta value data points to be used in the machine learning algorithms.\n",
      "3. The application of a machine learning algorithm that achieves above a 90% accuracy score.\n",
      "4. An analysis of the successes and failures of multiple classifiers.\n",
      "5) Visual Aids"
     ]
    },
    {
     "cell_type": "markdown",
     "metadata": {},
     "source": [
      "## Related Work\n",
      "\n",
      "I recently started volunteering at a a nuerobiology research lab at the Harvard Medical School. This has given me access to fMRI monkey brain scan data.\n",
      "\n",
      "I learned a great deal about different machine learning techniques in CS-E109, and I intend to use these to help me find a classifier that can predict visual stimuli based on fMRI data."
     ]
    },
    {
     "cell_type": "markdown",
     "metadata": {},
     "source": [
      "## Initial Questions\n",
      "\n",
      "1. I would like to determine which type of classifier is most useful for this type of prediction.\n",
      "2. I would like to know how best to address that problem that there is an overload of information in fMRI scan data.\n",
      "3. I would like to know what prediction rates are possible when one knows nothing about the brain other than a vague sense for where visual information is processed.\n",
      "4. My lab has acheived prediction rates of over 90% by focusing on a preselected and specialized region of the brain that responds predictably to visual stimuli.  I would like to know if I can acheive similar results when using a entire Ventral Visual Cortex."
     ]
    },
    {
     "cell_type": "markdown",
     "metadata": {},
     "source": [
      "## Data\n",
      "\n",
      "The fMRI monkey brain scan data comes from the Livingstone Lab at the Department of Neurobiology at the Harvard Medical School.  Since the data sets are huge, I am only able to transfer data for one monkey onto my computer (using a flash drive).  \n",
      "A voxel is a cubic millimeter of brain tissue.  The fMRI data consists of brain blood flow activity levels for each voxel of the brain, collected at two second increments.  The monkey was shown a total of 4 different types of images.  The experiment consisted of 24 runs, each 260 seconds long.  During each run, the monkey was shown one of the 4 images types 6 times.  To be clear, the 6 images shown were selected from the 4 image types.  Two image types were show once during each run, and two image types were shown twice, resulting in a total of 6 images per run.  Over the course of 24 runs, the monkey is shown a total of 144 images.\n",
      "The brain scan data is in the form of NIFTI files, and accompanying information about the experiments (including the classes) comes in the form of MAT-files.  "
     ]
    },
    {
     "cell_type": "markdown",
     "metadata": {},
     "source": [
      "## Update on the Sturcture of This Project  \n",
      "\n",
      "During a one on one meeting with Verena on November 30th, she told me that the project can be done in a language other than Python, but that Python is preferred.  Because of this, I have decided to do my analysis in this IPython Playbook, but first I will perform data wrangling and data frame generation in Matlab.  \n",
      "\n",
      "Therefore, many cells of this playbook will be in reference to work being done in my Matlab code."
     ]
    },
    {
     "cell_type": "markdown",
     "metadata": {},
     "source": [
      "## Updates on Data-frame Create\n",
      "\n",
      "#####UPDATE 1\n",
      "\n",
      "While the fMRI data comes in the form of NIFTI files, the data that is required to analyze the fMRI data is in the form of MATLAB files.  These files provided to me by the lab.  They contain huge data structures that hold infomation pertaining to a whole series of experiments.  I am only analyzing one of these experiments.  The data pertaining to my experiment is buried deep inside of the huge data structures.  This means that I need to parse the massive data structures and extract from them the relevant information.\n",
      "\n",
      "#####UPDATE 2\n",
      "\n",
      "Each fMRI data file includes signal values for 370,000 voxels X 130 time-points = 48 Million.\n",
      "I am using 24 fMRI files (1 per run), which results in a grand total of 1.15 Billion signal values!\n",
      "I hoped to create a dataframe that would contain a single beta value per voxel per image shown per run.  Therefore, I would have had to generate 370,000 X 6 images X 24 runs = 53 Million betas!\n",
      "Because this project is an exploratory anlysis, such a large dataframe is unweildy to work with.\n",
      "For the sake of practicality, I am limiting my analysis to the \"visual ventral stream\", a super-region of the brain that contains most of the visual cortex and consists of many sub-regions associated with object recognition.  I still plan on determining which parts of this super-region respond to different image categories, and which parts can be used for machine learning and prediction.  The super-region includes over 22,000 voxels."
     ]
    },
    {
     "cell_type": "markdown",
     "metadata": {},
     "source": [
      "## Background Information on Response (Beta) Values\n",
      "\n",
      "I use response (beta) values to represent the response that a voxel has to a visual stimulus.  I cannot simply use raw fMRI output to estimate a voxel's response to a stimulus.  fMRI data raw measurements mean very little for multiple reasons:\n",
      "  1. Voxels can have naturally different levels of blood flow\n",
      "  2. The signal could vary due to the distance from the fMRI machine receive coil.\n",
      "  3. The output from the fMRI machine could be floating over time.  \n",
      "For these reasons, I base my analysis on the change in magnetic resonance signal over time.  I try to estimate the amount that the signal changes when the stimulus is present.  This change in signal should only be recorded if the change is maintained over the duration of the stimulation.  Activity that is not maintained should be ignored.  The good way to estimate the true signal response is by calculating the beta values via the convolution and linear regression methods that I will describe later.  \n",
      "    "
     ]
    },
    {
     "cell_type": "markdown",
     "metadata": {},
     "source": [
      "### Regression Matrix\n",
      "\n",
      "When calculating voxel response, I have to be careful to account for confouding effects.  For example, the signal for voxels that are always activated must be shifted downward accordingly.  This is why I will include a baseline regressor.  Voxels whose signal jumps up and down but are not responding to the experiment must be ignored as well.  Luckily, the baseline regressor will shift the signal so that its low values will be negative and its high values will be positive, so that the peaks and valleys will cancel each other out. The only danger is a confouding effect that results in a signal that happens to match the frequency of the experiment (as in one peak every 20 seconds when an image is shown).  However, this is extremely unlikely.  Lastly, I must account for a signal that floats upward over time.  This is why I include a trend regressor to eliminate this effect. "
     ]
    },
    {
     "cell_type": "markdown",
     "metadata": {},
     "source": [
      "## Matlab Code & Regression Analysis\n",
      "\n",
      "The following is a description of the work that I had to do to calculate beta values and to generate a dataset. This work includes the regression analysis which I did to generate \"Response\" values that describe how each voxel of the brain reponded to an image during a run.  Here, I present my Matlab work according to the various sections of the Matlab code.\n",
      "\n",
      "1. Collect experiment details: In this section, I determined the order in which the experiment was performed and generated a matrix to house this information by run.\n",
      "2. Load Visual Ventral Stream Voxel Coordinates: I loaded in data on the which voxels are in the visual ventral stream.  Then I created a matrix to house the coordinates of each voxel.  These are the \"i\", \"j\", and \"k\" values that eventually appear in the dataframe.\n",
      "3. Convert fMRI Data into Matlab Files: I read in the fMRI NIFTI files and converted them into Matlab files so that I could more easily access the data.  The conversion is a time consuming process because each of the 24 files contain over 157MB of fMRI data.\n",
      "4. For Each Run, Load fMRI Data: I read the .mat files in and populated a matrix that houses the fMRI data for only the voxels in question.\n",
      "5. Create the Convoled Hemodynamic Response Function: I needed to create vectors to represent the shape of a neuron's response to a prolonged stimulus.  Each image was shown to the monkey for 10 seconds, and would therefore result in a prolonged stimulus neurological response. I created a boxcar function to represent when the monkey was shown an image.  I also created a vector of values to represent the shape of a neuron's response to an impulse stimulus.  I then convolved my boxcar function with the impulse function to create vectors that represent a neuron's response to a prolonged stimulus.\n",
      "6. Create Nuissance Regressors: I created a trend regression vector and a baseline regression vector to be used later in the regression matrix.\n",
      "7. Regression Analysis: For each run, I did the following: I created a regression matrix that contains vectors for the expected neurological response to a prolonged stimulus, a vector for the trend regressor, a vector for the baseline regressor, and a series of motion nuissance regressor that were provided to me by the lab.  I then calculated the pseudoinverse of the regression matrix. Then for each voxel, I multiplied the pseudoinverse matrix by the output fMRI signal, resulting in a beta value for each of the vectors in my regression matrix.  The first six beta values correspond to the images that were shown during the run.\n",
      "8. Build Dataframe: I decided that I would need to have a row for the beta value that corresponds to one voxel, one image, and one run.  This means that I have created a dataframe with about 22,000 voxels X 6 images X 24 runs = 3 Million rows!  I built my dataframe by looping through all voxels, all images, and all runs.\n"
     ]
    },
    {
     "cell_type": "heading",
     "level": 1,
     "metadata": {},
     "source": [
      "Dataframe Exploration"
     ]
    },
    {
     "cell_type": "markdown",
     "metadata": {},
     "source": [
      "After countless hours of work, I've managed to create a dataframe and write it to a CSV file using Matlab. Now I can read it into Python and begin my exploration.  I've decided to give the betas column the header \"Response\" to make it a little bit more intuitive for readers.  One can think about voxels responding to the visual stimulus, and the magnitude of that response.  It is important to note that a greater response is indicated by a more negative beta value.  Therefore, I have decided to change the sign of the response column, so that the responses are positive."
     ]
    },
    {
     "cell_type": "code",
     "collapsed": false,
     "input": [
      "Brain = pd.read_csv('Dataframe.csv', header=None)\n",
      "Brain.columns = ['Voxel', 'i', 'j', 'k', 'Run', 'Image Type', 'Response']\n",
      "temp = Brain['Response']\n",
      "Brain['Response'] = temp*-1\n",
      "Brain.head()"
     ],
     "language": "python",
     "metadata": {},
     "outputs": [
      {
       "html": [
        "<div style=\"max-height:1000px;max-width:1500px;overflow:auto;\">\n",
        "<table border=\"1\" class=\"dataframe\">\n",
        "  <thead>\n",
        "    <tr style=\"text-align: right;\">\n",
        "      <th></th>\n",
        "      <th>Voxel</th>\n",
        "      <th>i</th>\n",
        "      <th>j</th>\n",
        "      <th>k</th>\n",
        "      <th>Run</th>\n",
        "      <th>Image Type</th>\n",
        "      <th>Response</th>\n",
        "    </tr>\n",
        "  </thead>\n",
        "  <tbody>\n",
        "    <tr>\n",
        "      <th>0</th>\n",
        "      <td> 1</td>\n",
        "      <td> 51</td>\n",
        "      <td> 12</td>\n",
        "      <td> 6</td>\n",
        "      <td> 1</td>\n",
        "      <td> 4</td>\n",
        "      <td> 2.92800</td>\n",
        "    </tr>\n",
        "    <tr>\n",
        "      <th>1</th>\n",
        "      <td> 1</td>\n",
        "      <td> 51</td>\n",
        "      <td> 12</td>\n",
        "      <td> 6</td>\n",
        "      <td> 1</td>\n",
        "      <td> 1</td>\n",
        "      <td>-0.28267</td>\n",
        "    </tr>\n",
        "    <tr>\n",
        "      <th>2</th>\n",
        "      <td> 1</td>\n",
        "      <td> 51</td>\n",
        "      <td> 12</td>\n",
        "      <td> 6</td>\n",
        "      <td> 1</td>\n",
        "      <td> 3</td>\n",
        "      <td> 0.28745</td>\n",
        "    </tr>\n",
        "    <tr>\n",
        "      <th>3</th>\n",
        "      <td> 1</td>\n",
        "      <td> 51</td>\n",
        "      <td> 12</td>\n",
        "      <td> 6</td>\n",
        "      <td> 1</td>\n",
        "      <td> 2</td>\n",
        "      <td>-2.91530</td>\n",
        "    </tr>\n",
        "    <tr>\n",
        "      <th>4</th>\n",
        "      <td> 1</td>\n",
        "      <td> 51</td>\n",
        "      <td> 12</td>\n",
        "      <td> 6</td>\n",
        "      <td> 1</td>\n",
        "      <td> 3</td>\n",
        "      <td>-3.47270</td>\n",
        "    </tr>\n",
        "  </tbody>\n",
        "</table>\n",
        "</div>"
       ],
       "metadata": {},
       "output_type": "pyout",
       "prompt_number": 488,
       "text": [
        "   Voxel   i   j  k  Run  Image Type  Response\n",
        "0      1  51  12  6    1           4   2.92800\n",
        "1      1  51  12  6    1           1  -0.28267\n",
        "2      1  51  12  6    1           3   0.28745\n",
        "3      1  51  12  6    1           2  -2.91530\n",
        "4      1  51  12  6    1           3  -3.47270"
       ]
      }
     ],
     "prompt_number": 488
    },
    {
     "cell_type": "code",
     "collapsed": false,
     "input": [
      "Brain.describe()"
     ],
     "language": "python",
     "metadata": {},
     "outputs": [
      {
       "html": [
        "<div style=\"max-height:1000px;max-width:1500px;overflow:auto;\">\n",
        "<table border=\"1\" class=\"dataframe\">\n",
        "  <thead>\n",
        "    <tr style=\"text-align: right;\">\n",
        "      <th></th>\n",
        "      <th>Voxel</th>\n",
        "      <th>i</th>\n",
        "      <th>j</th>\n",
        "      <th>k</th>\n",
        "      <th>Run</th>\n",
        "      <th>Image Type</th>\n",
        "      <th>Response</th>\n",
        "    </tr>\n",
        "  </thead>\n",
        "  <tbody>\n",
        "    <tr>\n",
        "      <th>count</th>\n",
        "      <td> 3278880.000000</td>\n",
        "      <td> 3278880.000000</td>\n",
        "      <td> 3278880.000000</td>\n",
        "      <td> 3278880.000000</td>\n",
        "      <td> 3278880.000000</td>\n",
        "      <td> 3278880.000000</td>\n",
        "      <td> 3278880.000000</td>\n",
        "    </tr>\n",
        "    <tr>\n",
        "      <th>mean</th>\n",
        "      <td>   11385.500000</td>\n",
        "      <td>      21.235178</td>\n",
        "      <td>      34.725077</td>\n",
        "      <td>      31.771498</td>\n",
        "      <td>      12.500000</td>\n",
        "      <td>       2.500000</td>\n",
        "      <td>       1.548673</td>\n",
        "    </tr>\n",
        "    <tr>\n",
        "      <th>std</th>\n",
        "      <td>    6573.133811</td>\n",
        "      <td>      10.551516</td>\n",
        "      <td>      17.859318</td>\n",
        "      <td>       8.914700</td>\n",
        "      <td>       6.922188</td>\n",
        "      <td>       0.957427</td>\n",
        "      <td>       3.079095</td>\n",
        "    </tr>\n",
        "    <tr>\n",
        "      <th>min</th>\n",
        "      <td>       1.000000</td>\n",
        "      <td>       3.000000</td>\n",
        "      <td>       3.000000</td>\n",
        "      <td>       6.000000</td>\n",
        "      <td>       1.000000</td>\n",
        "      <td>       1.000000</td>\n",
        "      <td>     -36.317000</td>\n",
        "    </tr>\n",
        "    <tr>\n",
        "      <th>25%</th>\n",
        "      <td>    5693.000000</td>\n",
        "      <td>      13.000000</td>\n",
        "      <td>      18.000000</td>\n",
        "      <td>      27.000000</td>\n",
        "      <td>       6.750000</td>\n",
        "      <td>       2.000000</td>\n",
        "      <td>      -0.252840</td>\n",
        "    </tr>\n",
        "    <tr>\n",
        "      <th>50%</th>\n",
        "      <td>   11385.500000</td>\n",
        "      <td>      19.000000</td>\n",
        "      <td>      36.500000</td>\n",
        "      <td>      32.000000</td>\n",
        "      <td>      12.500000</td>\n",
        "      <td>       2.500000</td>\n",
        "      <td>       1.023600</td>\n",
        "    </tr>\n",
        "    <tr>\n",
        "      <th>75%</th>\n",
        "      <td>   17078.000000</td>\n",
        "      <td>      27.000000</td>\n",
        "      <td>      51.000000</td>\n",
        "      <td>      38.000000</td>\n",
        "      <td>      18.250000</td>\n",
        "      <td>       3.000000</td>\n",
        "      <td>       2.859100</td>\n",
        "    </tr>\n",
        "    <tr>\n",
        "      <th>max</th>\n",
        "      <td>   22770.000000</td>\n",
        "      <td>      53.000000</td>\n",
        "      <td>      66.000000</td>\n",
        "      <td>      51.000000</td>\n",
        "      <td>      24.000000</td>\n",
        "      <td>       4.000000</td>\n",
        "      <td>      54.611000</td>\n",
        "    </tr>\n",
        "  </tbody>\n",
        "</table>\n",
        "</div>"
       ],
       "metadata": {},
       "output_type": "pyout",
       "prompt_number": 25,
       "text": [
        "                Voxel               i               j               k  \\\n",
        "count  3278880.000000  3278880.000000  3278880.000000  3278880.000000   \n",
        "mean     11385.500000       21.235178       34.725077       31.771498   \n",
        "std       6573.133811       10.551516       17.859318        8.914700   \n",
        "min          1.000000        3.000000        3.000000        6.000000   \n",
        "25%       5693.000000       13.000000       18.000000       27.000000   \n",
        "50%      11385.500000       19.000000       36.500000       32.000000   \n",
        "75%      17078.000000       27.000000       51.000000       38.000000   \n",
        "max      22770.000000       53.000000       66.000000       51.000000   \n",
        "\n",
        "                  Run      Image Type        Response  \n",
        "count  3278880.000000  3278880.000000  3278880.000000  \n",
        "mean        12.500000        2.500000        1.548673  \n",
        "std          6.922188        0.957427        3.079095  \n",
        "min          1.000000        1.000000      -36.317000  \n",
        "25%          6.750000        2.000000       -0.252840  \n",
        "50%         12.500000        2.500000        1.023600  \n",
        "75%         18.250000        3.000000        2.859100  \n",
        "max         24.000000        4.000000       54.611000  "
       ]
      }
     ],
     "prompt_number": 25
    },
    {
     "cell_type": "code",
     "collapsed": false,
     "input": [
      "# Let's check if there is are any correlations of note.\n",
      "Brain.corr()"
     ],
     "language": "python",
     "metadata": {},
     "outputs": [
      {
       "html": [
        "<div style=\"max-height:1000px;max-width:1500px;overflow:auto;\">\n",
        "<table border=\"1\" class=\"dataframe\">\n",
        "  <thead>\n",
        "    <tr style=\"text-align: right;\">\n",
        "      <th></th>\n",
        "      <th>Voxel</th>\n",
        "      <th>i</th>\n",
        "      <th>j</th>\n",
        "      <th>k</th>\n",
        "      <th>Run</th>\n",
        "      <th>Image Type</th>\n",
        "      <th>Response</th>\n",
        "    </tr>\n",
        "  </thead>\n",
        "  <tbody>\n",
        "    <tr>\n",
        "      <th>Voxel</th>\n",
        "      <td> 1.000000</td>\n",
        "      <td>-4.513789e-01</td>\n",
        "      <td> 8.141952e-02</td>\n",
        "      <td> 9.704878e-01</td>\n",
        "      <td> 0.000000e+00</td>\n",
        "      <td> 0.000000</td>\n",
        "      <td> 0.090213</td>\n",
        "    </tr>\n",
        "    <tr>\n",
        "      <th>i</th>\n",
        "      <td>-0.451379</td>\n",
        "      <td> 1.000000e+00</td>\n",
        "      <td>-1.192581e-02</td>\n",
        "      <td>-5.461426e-01</td>\n",
        "      <td>-1.119777e-18</td>\n",
        "      <td> 0.000000</td>\n",
        "      <td>-0.133167</td>\n",
        "    </tr>\n",
        "    <tr>\n",
        "      <th>j</th>\n",
        "      <td> 0.081420</td>\n",
        "      <td>-1.192581e-02</td>\n",
        "      <td> 1.000000e+00</td>\n",
        "      <td> 4.997338e-02</td>\n",
        "      <td> 1.099417e-19</td>\n",
        "      <td> 0.000000</td>\n",
        "      <td> 0.087340</td>\n",
        "    </tr>\n",
        "    <tr>\n",
        "      <th>k</th>\n",
        "      <td> 0.970488</td>\n",
        "      <td>-5.461426e-01</td>\n",
        "      <td> 4.997338e-02</td>\n",
        "      <td> 1.000000e+00</td>\n",
        "      <td>-3.862846e-19</td>\n",
        "      <td> 0.000000</td>\n",
        "      <td> 0.106952</td>\n",
        "    </tr>\n",
        "    <tr>\n",
        "      <th>Run</th>\n",
        "      <td> 0.000000</td>\n",
        "      <td>-1.119777e-18</td>\n",
        "      <td> 1.099417e-19</td>\n",
        "      <td>-3.862846e-19</td>\n",
        "      <td> 1.000000e+00</td>\n",
        "      <td> 0.000000</td>\n",
        "      <td>-0.019334</td>\n",
        "    </tr>\n",
        "    <tr>\n",
        "      <th>Image Type</th>\n",
        "      <td> 0.000000</td>\n",
        "      <td> 0.000000e+00</td>\n",
        "      <td> 0.000000e+00</td>\n",
        "      <td> 0.000000e+00</td>\n",
        "      <td> 0.000000e+00</td>\n",
        "      <td> 1.000000</td>\n",
        "      <td> 0.031132</td>\n",
        "    </tr>\n",
        "    <tr>\n",
        "      <th>Response</th>\n",
        "      <td> 0.090213</td>\n",
        "      <td>-1.331669e-01</td>\n",
        "      <td> 8.734031e-02</td>\n",
        "      <td> 1.069524e-01</td>\n",
        "      <td>-1.933433e-02</td>\n",
        "      <td> 0.031132</td>\n",
        "      <td> 1.000000</td>\n",
        "    </tr>\n",
        "  </tbody>\n",
        "</table>\n",
        "</div>"
       ],
       "metadata": {},
       "output_type": "pyout",
       "prompt_number": 489,
       "text": [
        "               Voxel             i             j             k           Run  \\\n",
        "Voxel       1.000000 -4.513789e-01  8.141952e-02  9.704878e-01  0.000000e+00   \n",
        "i          -0.451379  1.000000e+00 -1.192581e-02 -5.461426e-01 -1.119777e-18   \n",
        "j           0.081420 -1.192581e-02  1.000000e+00  4.997338e-02  1.099417e-19   \n",
        "k           0.970488 -5.461426e-01  4.997338e-02  1.000000e+00 -3.862846e-19   \n",
        "Run         0.000000 -1.119777e-18  1.099417e-19 -3.862846e-19  1.000000e+00   \n",
        "Image Type  0.000000  0.000000e+00  0.000000e+00  0.000000e+00  0.000000e+00   \n",
        "Response    0.090213 -1.331669e-01  8.734031e-02  1.069524e-01 -1.933433e-02   \n",
        "\n",
        "            Image Type  Response  \n",
        "Voxel         0.000000  0.090213  \n",
        "i             0.000000 -0.133167  \n",
        "j             0.000000  0.087340  \n",
        "k             0.000000  0.106952  \n",
        "Run           0.000000 -0.019334  \n",
        "Image Type    1.000000  0.031132  \n",
        "Response      0.031132  1.000000  "
       ]
      }
     ],
     "prompt_number": 489
    },
    {
     "cell_type": "markdown",
     "metadata": {},
     "source": [
      "There appears to be little correlation between voxel i,j,k indices and voxel response values.\n",
      "\n",
      "Let's look at the distribution of the responses."
     ]
    },
    {
     "cell_type": "code",
     "collapsed": false,
     "input": [
      "Brain['Response'].hist(bins=50)\n",
      "plt.xlim(-10,20)\n",
      "plt.title('Response from Voxels in Visual Ventral Cortex')\n",
      "plt.xlabel('Response')"
     ],
     "language": "python",
     "metadata": {},
     "outputs": [
      {
       "metadata": {},
       "output_type": "pyout",
       "prompt_number": 12,
       "text": [
        "<matplotlib.text.Text at 0x3f67128>"
       ]
      },
      {
       "metadata": {},
       "output_type": "display_data",
       "png": "[encoded data removed]",
       "text": [
        "<matplotlib.figure.Figure at 0x145a9518>"
       ]
      }
     ],
     "prompt_number": 12
    },
    {
     "cell_type": "markdown",
     "metadata": {},
     "source": [
      "It was to be expected that the histogram would be skewed to the right.  As voxels respond to the experiment stimuli, they pull the distribution right. \n",
      "\n",
      "It is interesting that there are negative responses.  Since I switched the sign of the response earlier, brain activation is characterized by a positive value.  Therefore, I assume that a negative response value indicated deactiviation of a voxel in response to a stimulus.  Could this be a result of blood flowing away from certain voxels and towards others?  Such questions are beyond the scope of this project.\n",
      " "
     ]
    },
    {
     "cell_type": "markdown",
     "metadata": {},
     "source": [
      "Now I will check if there is a distinguishable difference in the responses split by Image Type. "
     ]
    },
    {
     "cell_type": "code",
     "collapsed": false,
     "input": [
      "sub_df = Brain.boxplot(column='Response', by='Image Type')\n",
      "plt.title('Voxel Response Grouped by Image')\n",
      "plt.ylabel('Response')\n",
      "plt.xlabel('Image Type')"
     ],
     "language": "python",
     "metadata": {},
     "outputs": [
      {
       "metadata": {},
       "output_type": "pyout",
       "prompt_number": 91,
       "text": [
        "<matplotlib.text.Text at 0x3568ef28>"
       ]
      },
      {
       "metadata": {},
       "output_type": "display_data",
       "png": "[encoded data removed]",
       "text": [
        "<matplotlib.figure.Figure at 0x3c584d30>"
       ]
      }
     ],
     "prompt_number": 91
    },
    {
     "cell_type": "markdown",
     "metadata": {},
     "source": [
      "These are very similar looking, with about the same mean value just above zero.\n",
      "\n",
      "The next thing that I would like to explore is whether voxels tend to respond similarly across the 24 runs of the experiment, and whether there is a difference is the responses based on the image type. "
     ]
    },
    {
     "cell_type": "code",
     "collapsed": false,
     "input": [
      "#Plot of All Voxel Response Values Split by Run\n",
      "\n",
      "plt.plot(Brain.Run, Brain.Response, 'o')\n",
      "plt.title('Voxel Response in Visual Ventral Cortex')\n",
      "plt.ylabel('Response')\n",
      "plt.xlabel('Run')"
     ],
     "language": "python",
     "metadata": {},
     "outputs": [
      {
       "metadata": {},
       "output_type": "pyout",
       "prompt_number": 14,
       "text": [
        "<matplotlib.text.Text at 0x26e3ba58>"
       ]
      },
      {
       "metadata": {},
       "output_type": "display_data",
       "png": "[encoded data removed]",
       "text": [
        "<matplotlib.figure.Figure at 0xce87898>"
       ]
      }
     ],
     "prompt_number": 14
    },
    {
     "cell_type": "code",
     "collapsed": false,
     "input": [
      "#Plot of All Voxel Response Values for Image Types 2 and 3\n",
      "\n",
      "sub_df1 = Brain[Brain['Image Type']==2]\n",
      "sub_df2 = Brain[Brain['Image Type']==3]\n",
      "\n",
      "plt.figure(figsize=(10,10))\n",
      "plt.plot(sub_df1.Run-0.1, sub_df1.Response, 'o', color = \"blue\")\n",
      "plt.plot(sub_df2.Run+0.1, sub_df2.Response, 'o', color = \"red\")\n",
      "plt.title('Voxel Responses - Image Types 2 vs. 3')\n",
      "plt.ylabel('Response')\n",
      "plt.xlabel('Run')\n",
      "plt.show()"
     ],
     "language": "python",
     "metadata": {},
     "outputs": [
      {
       "metadata": {},
       "output_type": "display_data",
       "png": "[encoded data removed]",
       "text": [
        "<matplotlib.figure.Figure at 0x3ba0af60>"
       ]
      }
     ],
     "prompt_number": 639
    },
    {
     "cell_type": "markdown",
     "metadata": {},
     "source": [
      "There is certainly a fair amount of variation between each run.  Now the question becomes: Are individual voxels giving consistent response values across runs?  Are the voxels with the greatest response in one run the same as the voxels with the greatest response in another run?  \n",
      "\n",
      "I will answer these questions by looking at the voxel with the highest response (54.6) and seeing if it shows a consistent response across runs for individual image types.  Then I will look at some of the other mid-high responders that come in around 25."
     ]
    },
    {
     "cell_type": "code",
     "collapsed": false,
     "input": [
      "max_response = Brain['Response'].max()\n",
      "max_row = Brain[Brain['Response']==max_response]\n",
      "mid_high_rows = Brain[(Brain['Response']>=24.9) & (Brain['Response']<=25.1)]"
     ],
     "language": "python",
     "metadata": {},
     "outputs": [],
     "prompt_number": 97
    },
    {
     "cell_type": "code",
     "collapsed": false,
     "input": [
      "max_row = row.reset_index(drop=True)\n",
      "max_voxel = row.ix[0,0]\n",
      "sub_df = Brain[(Brain['Voxel']==max_voxel) & (Brain['Image Type']==1)]\n",
      "plt.plot(sub_df.Run, sub_df.Response, 'o')\n",
      "plt.title('Maximum Response Voxel - Image Type 1')\n",
      "plt.ylabel('Response')\n",
      "plt.xlabel('Run')\n",
      "np.std(sub_df.Response)"
     ],
     "language": "python",
     "metadata": {},
     "outputs": [
      {
       "metadata": {},
       "output_type": "pyout",
       "prompt_number": 110,
       "text": [
        "17.772185101064821"
       ]
      },
      {
       "metadata": {},
       "output_type": "display_data",
       "png": "[encoded data removed]",
       "text": [
        "<matplotlib.figure.Figure at 0x28893f60>"
       ]
      }
     ],
     "prompt_number": 110
    },
    {
     "cell_type": "markdown",
     "metadata": {},
     "source": [
      "Even though this data comes from the same voxel, and these datapoints come from the same image type, the voxel exhibits great inconsistentcy! The standard deviation of the responses is over 17.7!\n",
      "\n",
      "Let's see if this voxel responds more consistently for a different Image Type"
     ]
    },
    {
     "cell_type": "code",
     "collapsed": false,
     "input": [
      "sub_df = Brain[(Brain['Voxel']==max_voxel) & (Brain['Image Type']==4)]\n",
      "plt.plot(sub_df.Run, sub_df.Response, 'o')\n",
      "plt.title('Maximum Response Voxel - Image Type 4')\n",
      "plt.ylabel('Response')\n",
      "plt.xlabel('Run')\n",
      "np.std(sub_df.Response)"
     ],
     "language": "python",
     "metadata": {},
     "outputs": [
      {
       "metadata": {},
       "output_type": "pyout",
       "prompt_number": 111,
       "text": [
        "20.826676872541512"
       ]
      },
      {
       "metadata": {},
       "output_type": "display_data",
       "png": "[encoded data removed]",
       "text": [
        "<matplotlib.figure.Figure at 0x41333550>"
       ]
      }
     ],
     "prompt_number": 111
    },
    {
     "cell_type": "markdown",
     "metadata": {},
     "source": [
      "With this image type, we can see that the maximum response value (54.6) is present.  However, we still have no consistency across runs. This is troubling because it indicates that the linear regression did not effectively filter out noise.  Either that, or this voxel is responding to the stimulus each time, but in a different way every time, which seems improbable.  Could this particular voxel be an outlier?  \n",
      "\n",
      "Let's check some of the mid-high response voxels to see if they are any more consistent.  Let's first look at the rows that contain these mid-high response values (about 25)."
     ]
    },
    {
     "cell_type": "markdown",
     "metadata": {},
     "source": [
      "Voxels 16844 and 16828 both respond multiple times with mid/high responses, so let's see if they show any consistency."
     ]
    },
    {
     "cell_type": "code",
     "collapsed": false,
     "input": [
      "sub_df = Brain[((Brain['Voxel']==16844)|(Brain['Voxel']==16828)) & (Brain['Image Type']==1)]\n",
      "plt.plot(sub_df.Run, sub_df.Response, 'o')\n",
      "plt.title('Mid-High Response Voxels - Image Type 1')\n",
      "plt.ylabel('Response')\n",
      "plt.xlabel('Run')\n",
      "np.std(sub_df.Response)"
     ],
     "language": "python",
     "metadata": {},
     "outputs": [
      {
       "metadata": {},
       "output_type": "pyout",
       "prompt_number": 109,
       "text": [
        "6.8201428659265906"
       ]
      },
      {
       "metadata": {},
       "output_type": "display_data",
       "png": "[encoded data removed]",
       "text": [
        "<matplotlib.figure.Figure at 0x41333048>"
       ]
      }
     ],
     "prompt_number": 109
    },
    {
     "cell_type": "code",
     "collapsed": false,
     "input": [
      "sub_df = Brain[((Brain['Voxel']==16844)|(Brain['Voxel']==16828)) & (Brain['Image Type']==2)]\n",
      "plt.plot(sub_df.Run, sub_df.Response, 'o')\n",
      "plt.title('Mid-High Response Voxels - Image Type 2')\n",
      "plt.ylabel('Response')\n",
      "plt.xlabel('Run')\n",
      "np.std(sub_df.Response)"
     ],
     "language": "python",
     "metadata": {},
     "outputs": [
      {
       "metadata": {},
       "output_type": "pyout",
       "prompt_number": 112,
       "text": [
        "8.6272750371283564"
       ]
      },
      {
       "metadata": {},
       "output_type": "display_data",
       "png": "[encoded data removed]",
       "text": [
        "<matplotlib.figure.Figure at 0x26baef28>"
       ]
      }
     ],
     "prompt_number": 112
    },
    {
     "cell_type": "markdown",
     "metadata": {},
     "source": [
      "While image type 2 appears to show some level of consistency, this is only because the graph has a far larger response range.  However, it is interesting that for image 2, the data is more consistent during the first 19 runs. \n",
      "\n",
      "The standard deviations are howevering around 6.  This is vastly improved over the first voxel I tested, but it is still higher than I had hoped.  This could make pattern detection difficult!\n",
      "I originally hoped that I could use voxels with high response values as the input to a machine learning classifier.  I hypothesized that high responses voxels would be good candidates to include in classifier training and test sets. However, if voxels with high signal values cannot be trusted to show consistency, then they may not create a great classifier.\n"
     ]
    },
    {
     "cell_type": "markdown",
     "metadata": {},
     "source": [
      "### Classifier Voxel Selection\n",
      "\n",
      "I come to one of my biggest challenges.  I would like to use machine learning to create a classifier that can predict an image type based on the responses of the voxels in the brain.  This is especially challenging because every voxel could potentially be a feature in the classifier, and there are 22,000 voxels to choose from!  I have a total of 24 runs X 6 Images = 144 data points to be used in the classification.  And there are 4 different classes that the classifier must choose from, meaning that I have between 24 and 48 data points per class.  It is difficult to find a classifier that can handle 144 data points and 22,000 features.  I must somehow decide which of the voxels to include as features for my classifier, and which to leave out.  \n",
      "\n",
      "At my lab, the principle investigator was able to create a fairly successful classifier by feeding it 400 voxels from a special region of the brain that is well known to differentiate effectively between image types.  In a sense, they knew upfront which voxels were best to use.  I am attempting to select the voxels on my own, which is a far greater challenge.  Later on in this project, I will use these preselected voxels and see how well they perform in a classifier, and compare these results with voxels that were not preselected.\n"
     ]
    },
    {
     "cell_type": "heading",
     "level": 1,
     "metadata": {},
     "source": [
      "Machine Learning: Classification\n"
     ]
    },
    {
     "cell_type": "markdown",
     "metadata": {},
     "source": [
      "Keeping in mind that I have limited data points to work with, I must try to be selective in which voxels I choose to include as features for any classifier that I try to build.  I must also try out multiple classifiers.  For this project, I will use the following.\n",
      "\n",
      "Machine Learning Classifiers\n",
      "1. K-Nearest Neighbors\n",
      "2. Decision Trees\n",
      "3. Random Forest\n",
      "3. Support Vector Machines\n",
      "5. Gaussian Naive Bayes\n",
      "6. Bernoulli Naive Bayes\n",
      "\n",
      "But before I can create a classifier, I must first create a dataframe that holds one datapoint per row. This dataframe will be called \"X\".  I must also create a dataframe that holds the classes that correspond with each datapoint.  This dataframe will be called \"Y\"."
     ]
    },
    {
     "cell_type": "code",
     "collapsed": false,
     "input": [
      "# The following is the code that I attempted to run to create X.  However, it never seems that Python has trouble looping through \n",
      "# a massive structure.  The code never stopped running.  \n",
      "\n",
      "#X = np.zeros((96,Brain.Voxel.max()))\n",
      "#for r in range(24):\n",
      "#    for i in range(4):\n",
      "#        for v in range(Brain.Voxel.max()):\n",
      "#            X[(r+i*24),v] = Brain[(Brain['Voxel']==(v+1)) & (Brain['Run']==(r+1)) & (Brain['Image Type']==(i+1))].iloc[0,6]\n"
     ],
     "language": "python",
     "metadata": {},
     "outputs": [],
     "prompt_number": 156
    },
    {
     "cell_type": "markdown",
     "metadata": {},
     "source": [
      "Since Python is having trouble creating such a large dataframe, I have decided to create a second dataframe in Matlab that I will use to create my X and Y dataframes.  Matlab can handle the looping process required to generate a dataframe much better than Python.  Again I will use Matlab to write the dataframe to a CSV file.\n",
      "\n",
      "Update: Creating the dataframe in Matlab was a success."
     ]
    },
    {
     "cell_type": "code",
     "collapsed": false,
     "input": [
      "DFXY = pd.read_csv('ClassifierDataframe.csv', header=None) \n",
      "#This is the dataframe for the classifier.  Each row is a datapoint and contains one column to hold the class (or image type) \n",
      "# that corresponds to that row.  There is also a column to hold the run number.  Then, starting with column 3, there is a column \n",
      "# to hold the signal value for every voxel. Therefore, the dataframe has about 144 rowns and over 22,000 columns!\n",
      "DFXY.shape  #The new dataframe has the expected dimensions.  144 rows equate to 24 runs X 6 images."
     ],
     "language": "python",
     "metadata": {},
     "outputs": [
      {
       "metadata": {},
       "output_type": "pyout",
       "prompt_number": 548,
       "text": [
        "(144, 22772)"
       ]
      }
     ],
     "prompt_number": 548
    },
    {
     "cell_type": "code",
     "collapsed": false,
     "input": [
      "DFXY.head()  #Let's see what this new dataframe looks like"
     ],
     "language": "python",
     "metadata": {},
     "outputs": [
      {
       "html": [
        "<div style=\"max-height:1000px;max-width:1500px;overflow:auto;\">\n",
        "<table border=\"1\" class=\"dataframe\">\n",
        "  <thead>\n",
        "    <tr style=\"text-align: right;\">\n",
        "      <th></th>\n",
        "      <th>0</th>\n",
        "      <th>1</th>\n",
        "      <th>2</th>\n",
        "      <th>3</th>\n",
        "      <th>4</th>\n",
        "      <th>5</th>\n",
        "      <th>6</th>\n",
        "      <th>7</th>\n",
        "      <th>8</th>\n",
        "      <th>9</th>\n",
        "      <th>...</th>\n",
        "      <th>22762</th>\n",
        "      <th>22763</th>\n",
        "      <th>22764</th>\n",
        "      <th>22765</th>\n",
        "      <th>22766</th>\n",
        "      <th>22767</th>\n",
        "      <th>22768</th>\n",
        "      <th>22769</th>\n",
        "      <th>22770</th>\n",
        "      <th>22771</th>\n",
        "    </tr>\n",
        "  </thead>\n",
        "  <tbody>\n",
        "    <tr>\n",
        "      <th>0</th>\n",
        "      <td> 1</td>\n",
        "      <td> 1</td>\n",
        "      <td> 0.28267</td>\n",
        "      <td> 0.37889</td>\n",
        "      <td>-1.72230</td>\n",
        "      <td>-0.84695</td>\n",
        "      <td> 0.86380</td>\n",
        "      <td>-0.60789</td>\n",
        "      <td>-1.1529</td>\n",
        "      <td>-1.58680</td>\n",
        "      <td>...</td>\n",
        "      <td>-0.62508</td>\n",
        "      <td>-0.78465</td>\n",
        "      <td>-2.8198</td>\n",
        "      <td>-4.66500</td>\n",
        "      <td>-3.04850</td>\n",
        "      <td>-1.03220</td>\n",
        "      <td>-3.5861</td>\n",
        "      <td>-3.95270</td>\n",
        "      <td>-1.35780</td>\n",
        "      <td>-1.77350</td>\n",
        "    </tr>\n",
        "    <tr>\n",
        "      <th>1</th>\n",
        "      <td> 1</td>\n",
        "      <td> 2</td>\n",
        "      <td>-0.24731</td>\n",
        "      <td>-3.27610</td>\n",
        "      <td>-1.34080</td>\n",
        "      <td> 1.11470</td>\n",
        "      <td>-1.84750</td>\n",
        "      <td> 2.07960</td>\n",
        "      <td> 1.5927</td>\n",
        "      <td> 1.17750</td>\n",
        "      <td>...</td>\n",
        "      <td>-0.58235</td>\n",
        "      <td>-2.89910</td>\n",
        "      <td>-2.9117</td>\n",
        "      <td>-2.81240</td>\n",
        "      <td>-2.88520</td>\n",
        "      <td>-1.93720</td>\n",
        "      <td>-2.2146</td>\n",
        "      <td>-2.86610</td>\n",
        "      <td>-2.98880</td>\n",
        "      <td>-1.93000</td>\n",
        "    </tr>\n",
        "    <tr>\n",
        "      <th>2</th>\n",
        "      <td> 1</td>\n",
        "      <td> 3</td>\n",
        "      <td>-1.42990</td>\n",
        "      <td> 2.18690</td>\n",
        "      <td>-0.34913</td>\n",
        "      <td>-1.83740</td>\n",
        "      <td> 0.98647</td>\n",
        "      <td>-0.27934</td>\n",
        "      <td>-1.3541</td>\n",
        "      <td> 0.28758</td>\n",
        "      <td>...</td>\n",
        "      <td> 0.74982</td>\n",
        "      <td>-1.74800</td>\n",
        "      <td>-4.0764</td>\n",
        "      <td>-5.98610</td>\n",
        "      <td>-2.67580</td>\n",
        "      <td>-0.24239</td>\n",
        "      <td>-1.6210</td>\n",
        "      <td>-3.75740</td>\n",
        "      <td>-0.54919</td>\n",
        "      <td>-0.22514</td>\n",
        "    </tr>\n",
        "    <tr>\n",
        "      <th>3</th>\n",
        "      <td> 1</td>\n",
        "      <td> 4</td>\n",
        "      <td> 0.95215</td>\n",
        "      <td> 2.89090</td>\n",
        "      <td> 3.64930</td>\n",
        "      <td> 1.66590</td>\n",
        "      <td> 3.03920</td>\n",
        "      <td> 1.68630</td>\n",
        "      <td> 1.4022</td>\n",
        "      <td> 1.81930</td>\n",
        "      <td>...</td>\n",
        "      <td> 0.56656</td>\n",
        "      <td>-0.66860</td>\n",
        "      <td>-1.5922</td>\n",
        "      <td>-0.93957</td>\n",
        "      <td>-0.06998</td>\n",
        "      <td>-0.63699</td>\n",
        "      <td>-1.9458</td>\n",
        "      <td>-0.69858</td>\n",
        "      <td>-3.54850</td>\n",
        "      <td>-2.86470</td>\n",
        "    </tr>\n",
        "    <tr>\n",
        "      <th>4</th>\n",
        "      <td> 1</td>\n",
        "      <td> 5</td>\n",
        "      <td> 0.46921</td>\n",
        "      <td>-1.77240</td>\n",
        "      <td> 1.52000</td>\n",
        "      <td> 2.29400</td>\n",
        "      <td>-1.53480</td>\n",
        "      <td>-2.04320</td>\n",
        "      <td>-1.6454</td>\n",
        "      <td>-2.04780</td>\n",
        "      <td>...</td>\n",
        "      <td>-1.62490</td>\n",
        "      <td>-1.25630</td>\n",
        "      <td>-2.2997</td>\n",
        "      <td>-2.20450</td>\n",
        "      <td>-1.80440</td>\n",
        "      <td>-0.87614</td>\n",
        "      <td>-2.2204</td>\n",
        "      <td>-1.76450</td>\n",
        "      <td>-1.85160</td>\n",
        "      <td>-2.54690</td>\n",
        "    </tr>\n",
        "  </tbody>\n",
        "</table>\n",
        "<p>5 rows \u00d7 22772 columns</p>\n",
        "</div>"
       ],
       "metadata": {},
       "output_type": "pyout",
       "prompt_number": 549,
       "text": [
        "   0      1        2        3        4        5        6        7       8      \\\n",
        "0      1      1  0.28267  0.37889 -1.72230 -0.84695  0.86380 -0.60789 -1.1529   \n",
        "1      1      2 -0.24731 -3.27610 -1.34080  1.11470 -1.84750  2.07960  1.5927   \n",
        "2      1      3 -1.42990  2.18690 -0.34913 -1.83740  0.98647 -0.27934 -1.3541   \n",
        "3      1      4  0.95215  2.89090  3.64930  1.66590  3.03920  1.68630  1.4022   \n",
        "4      1      5  0.46921 -1.77240  1.52000  2.29400 -1.53480 -2.04320 -1.6454   \n",
        "\n",
        "     9       ...       22762    22763   22764    22765    22766    22767  \\\n",
        "0 -1.58680   ...    -0.62508 -0.78465 -2.8198 -4.66500 -3.04850 -1.03220   \n",
        "1  1.17750   ...    -0.58235 -2.89910 -2.9117 -2.81240 -2.88520 -1.93720   \n",
        "2  0.28758   ...     0.74982 -1.74800 -4.0764 -5.98610 -2.67580 -0.24239   \n",
        "3  1.81930   ...     0.56656 -0.66860 -1.5922 -0.93957 -0.06998 -0.63699   \n",
        "4 -2.04780   ...    -1.62490 -1.25630 -2.2997 -2.20450 -1.80440 -0.87614   \n",
        "\n",
        "    22768    22769    22770    22771  \n",
        "0 -3.5861 -3.95270 -1.35780 -1.77350  \n",
        "1 -2.2146 -2.86610 -2.98880 -1.93000  \n",
        "2 -1.6210 -3.75740 -0.54919 -0.22514  \n",
        "3 -1.9458 -0.69858 -3.54850 -2.86470  \n",
        "4 -2.2204 -1.76450 -1.85160 -2.54690  \n",
        "\n",
        "[5 rows x 22772 columns]"
       ]
      }
     ],
     "prompt_number": 549
    },
    {
     "cell_type": "code",
     "collapsed": false,
     "input": [
      "#Now to create separate X and Y dataframes to be fed to a classifier\n",
      "\n",
      "X = DFXY.ix[:,2:].values  #This is all of the response values for all of the voxels\n",
      "X = pd.DataFrame(X)\n",
      "Y = DFXY.ix[:,0]   #This lists the class for each row\n",
      "X.head()"
     ],
     "language": "python",
     "metadata": {},
     "outputs": [
      {
       "html": [
        "<div style=\"max-height:1000px;max-width:1500px;overflow:auto;\">\n",
        "<table border=\"1\" class=\"dataframe\">\n",
        "  <thead>\n",
        "    <tr style=\"text-align: right;\">\n",
        "      <th></th>\n",
        "      <th>0</th>\n",
        "      <th>1</th>\n",
        "      <th>2</th>\n",
        "      <th>3</th>\n",
        "      <th>4</th>\n",
        "      <th>5</th>\n",
        "      <th>6</th>\n",
        "      <th>7</th>\n",
        "      <th>8</th>\n",
        "      <th>9</th>\n",
        "      <th>...</th>\n",
        "      <th>22760</th>\n",
        "      <th>22761</th>\n",
        "      <th>22762</th>\n",
        "      <th>22763</th>\n",
        "      <th>22764</th>\n",
        "      <th>22765</th>\n",
        "      <th>22766</th>\n",
        "      <th>22767</th>\n",
        "      <th>22768</th>\n",
        "      <th>22769</th>\n",
        "    </tr>\n",
        "  </thead>\n",
        "  <tbody>\n",
        "    <tr>\n",
        "      <th>0</th>\n",
        "      <td> 0.28267</td>\n",
        "      <td> 0.37889</td>\n",
        "      <td>-1.72230</td>\n",
        "      <td>-0.84695</td>\n",
        "      <td> 0.86380</td>\n",
        "      <td>-0.60789</td>\n",
        "      <td>-1.1529</td>\n",
        "      <td>-1.58680</td>\n",
        "      <td> 4.82700</td>\n",
        "      <td> 1.1983</td>\n",
        "      <td>...</td>\n",
        "      <td>-0.62508</td>\n",
        "      <td>-0.78465</td>\n",
        "      <td>-2.8198</td>\n",
        "      <td>-4.66500</td>\n",
        "      <td>-3.04850</td>\n",
        "      <td>-1.03220</td>\n",
        "      <td>-3.5861</td>\n",
        "      <td>-3.95270</td>\n",
        "      <td>-1.35780</td>\n",
        "      <td>-1.77350</td>\n",
        "    </tr>\n",
        "    <tr>\n",
        "      <th>1</th>\n",
        "      <td>-0.24731</td>\n",
        "      <td>-3.27610</td>\n",
        "      <td>-1.34080</td>\n",
        "      <td> 1.11470</td>\n",
        "      <td>-1.84750</td>\n",
        "      <td> 2.07960</td>\n",
        "      <td> 1.5927</td>\n",
        "      <td> 1.17750</td>\n",
        "      <td>-3.50190</td>\n",
        "      <td>-3.7544</td>\n",
        "      <td>...</td>\n",
        "      <td>-0.58235</td>\n",
        "      <td>-2.89910</td>\n",
        "      <td>-2.9117</td>\n",
        "      <td>-2.81240</td>\n",
        "      <td>-2.88520</td>\n",
        "      <td>-1.93720</td>\n",
        "      <td>-2.2146</td>\n",
        "      <td>-2.86610</td>\n",
        "      <td>-2.98880</td>\n",
        "      <td>-1.93000</td>\n",
        "    </tr>\n",
        "    <tr>\n",
        "      <th>2</th>\n",
        "      <td>-1.42990</td>\n",
        "      <td> 2.18690</td>\n",
        "      <td>-0.34913</td>\n",
        "      <td>-1.83740</td>\n",
        "      <td> 0.98647</td>\n",
        "      <td>-0.27934</td>\n",
        "      <td>-1.3541</td>\n",
        "      <td> 0.28758</td>\n",
        "      <td>-1.20620</td>\n",
        "      <td> 1.2948</td>\n",
        "      <td>...</td>\n",
        "      <td> 0.74982</td>\n",
        "      <td>-1.74800</td>\n",
        "      <td>-4.0764</td>\n",
        "      <td>-5.98610</td>\n",
        "      <td>-2.67580</td>\n",
        "      <td>-0.24239</td>\n",
        "      <td>-1.6210</td>\n",
        "      <td>-3.75740</td>\n",
        "      <td>-0.54919</td>\n",
        "      <td>-0.22514</td>\n",
        "    </tr>\n",
        "    <tr>\n",
        "      <th>3</th>\n",
        "      <td> 0.95215</td>\n",
        "      <td> 2.89090</td>\n",
        "      <td> 3.64930</td>\n",
        "      <td> 1.66590</td>\n",
        "      <td> 3.03920</td>\n",
        "      <td> 1.68630</td>\n",
        "      <td> 1.4022</td>\n",
        "      <td> 1.81930</td>\n",
        "      <td> 2.34250</td>\n",
        "      <td> 3.2833</td>\n",
        "      <td>...</td>\n",
        "      <td> 0.56656</td>\n",
        "      <td>-0.66860</td>\n",
        "      <td>-1.5922</td>\n",
        "      <td>-0.93957</td>\n",
        "      <td>-0.06998</td>\n",
        "      <td>-0.63699</td>\n",
        "      <td>-1.9458</td>\n",
        "      <td>-0.69858</td>\n",
        "      <td>-3.54850</td>\n",
        "      <td>-2.86470</td>\n",
        "    </tr>\n",
        "    <tr>\n",
        "      <th>4</th>\n",
        "      <td> 0.46921</td>\n",
        "      <td>-1.77240</td>\n",
        "      <td> 1.52000</td>\n",
        "      <td> 2.29400</td>\n",
        "      <td>-1.53480</td>\n",
        "      <td>-2.04320</td>\n",
        "      <td>-1.6454</td>\n",
        "      <td>-2.04780</td>\n",
        "      <td>-0.79546</td>\n",
        "      <td>-2.7194</td>\n",
        "      <td>...</td>\n",
        "      <td>-1.62490</td>\n",
        "      <td>-1.25630</td>\n",
        "      <td>-2.2997</td>\n",
        "      <td>-2.20450</td>\n",
        "      <td>-1.80440</td>\n",
        "      <td>-0.87614</td>\n",
        "      <td>-2.2204</td>\n",
        "      <td>-1.76450</td>\n",
        "      <td>-1.85160</td>\n",
        "      <td>-2.54690</td>\n",
        "    </tr>\n",
        "  </tbody>\n",
        "</table>\n",
        "<p>5 rows \u00d7 22770 columns</p>\n",
        "</div>"
       ],
       "metadata": {},
       "output_type": "pyout",
       "prompt_number": 550,
       "text": [
        "     0        1        2        3        4        5       6        7      \\\n",
        "0  0.28267  0.37889 -1.72230 -0.84695  0.86380 -0.60789 -1.1529 -1.58680   \n",
        "1 -0.24731 -3.27610 -1.34080  1.11470 -1.84750  2.07960  1.5927  1.17750   \n",
        "2 -1.42990  2.18690 -0.34913 -1.83740  0.98647 -0.27934 -1.3541  0.28758   \n",
        "3  0.95215  2.89090  3.64930  1.66590  3.03920  1.68630  1.4022  1.81930   \n",
        "4  0.46921 -1.77240  1.52000  2.29400 -1.53480 -2.04320 -1.6454 -2.04780   \n",
        "\n",
        "     8       9       ...      22760    22761   22762    22763    22764  \\\n",
        "0  4.82700  1.1983   ...   -0.62508 -0.78465 -2.8198 -4.66500 -3.04850   \n",
        "1 -3.50190 -3.7544   ...   -0.58235 -2.89910 -2.9117 -2.81240 -2.88520   \n",
        "2 -1.20620  1.2948   ...    0.74982 -1.74800 -4.0764 -5.98610 -2.67580   \n",
        "3  2.34250  3.2833   ...    0.56656 -0.66860 -1.5922 -0.93957 -0.06998   \n",
        "4 -0.79546 -2.7194   ...   -1.62490 -1.25630 -2.2997 -2.20450 -1.80440   \n",
        "\n",
        "     22765   22766    22767    22768    22769  \n",
        "0 -1.03220 -3.5861 -3.95270 -1.35780 -1.77350  \n",
        "1 -1.93720 -2.2146 -2.86610 -2.98880 -1.93000  \n",
        "2 -0.24239 -1.6210 -3.75740 -0.54919 -0.22514  \n",
        "3 -0.63699 -1.9458 -0.69858 -3.54850 -2.86470  \n",
        "4 -0.87614 -2.2204 -1.76450 -1.85160 -2.54690  \n",
        "\n",
        "[5 rows x 22770 columns]"
       ]
      }
     ],
     "prompt_number": 550
    },
    {
     "cell_type": "markdown",
     "metadata": {},
     "source": [
      "### Initial Classifier Exploration"
     ]
    },
    {
     "cell_type": "code",
     "collapsed": false,
     "input": [
      "# Let's Try a K-Nearest Neighbor Classifier and a Random Sampling of Voxels\n",
      "# First get a random sample\n",
      "\n",
      "rand_voxels = random.sample(range(X.shape[1]), 10)\n",
      "X_random_10 = X.ix[:,rand_voxels]\n",
      "X_random_10.shape #Confirm that we have the correct number or columns for 10 voxels\n",
      "\n",
      "k_values = range(1,40)\n",
      "random_seeds = np.random.randint(1000, size=50)\n",
      "\n",
      "def accuracy_for_k_val2(k,x_train, x_val, y_train, y_val):\n",
      "    knn = sklearn.neighbors.KNeighborsClassifier(n_neighbors=k, weights = 'uniform')\n",
      "    knn.fit(x_train,y_train)\n",
      "    y_hat = knn.predict(x_val)\n",
      "    return sklearn.metrics.accuracy_score(y_val, y_hat, normalize=True)\n",
      "\n",
      "values = np.zeros((len(k_values),random_seeds.shape[0]))\n",
      "for rs,c_rs in zip(random_seeds, range(random_seeds.shape[0])):\n",
      "    x_train, x_val, y_train, y_val = sklearn.cross_validation.train_test_split(\n",
      "                        X_random_10, Y, test_size=0.25, random_state=rs)\n",
      "    for k, c_k in zip(k_values, range(len(k_values))):\n",
      "        value = accuracy_for_k_val2(k=k,x_train=x_train, x_val=x_val, y_train=y_train, y_val=y_val)\n",
      "        values[c_k,c_rs] = value\n",
      "\n",
      "sns.tsplot(values.T)\n",
      "plt.xlabel('k')\n",
      "plt.ylabel('accuracy')\n",
      "plt.title('K-Nearest Neighbors Accuracy Using 10 Random Voxels')\n",
      "plt.show()"
     ],
     "language": "python",
     "metadata": {},
     "outputs": [
      {
       "metadata": {},
       "output_type": "display_data",
       "png": "[encoded data removed]",
       "text": [
        "<matplotlib.figure.Figure at 0x176ec2e8>"
       ]
      }
     ],
     "prompt_number": 15
    },
    {
     "cell_type": "markdown",
     "metadata": {},
     "source": [
      "The accuracy using 10 random voxels seems to max out at about 35%.  These results are barely better than if the classifier were randomly choosing classes (which would give an expected 25% accuracy since there are 4 classes).  From this plot, it can be seen that a using 25 neighbors gives the best results.  Let's see if these results are consistent by rerunning the code."
     ]
    },
    {
     "cell_type": "code",
     "collapsed": false,
     "input": [
      "#K-Nearest Neighbor Classification Using 10 Randomly Chosen Voxels - AGAIN\n",
      "\n",
      "k_values = range(1,40)\n",
      "random_seeds = np.random.randint(1000, size=50)\n",
      "\n",
      "values = np.zeros((len(k_values),random_seeds.shape[0]))\n",
      "for rs,c_rs in zip(random_seeds, range(random_seeds.shape[0])):\n",
      "    x_train, x_val, y_train, y_val = sklearn.cross_validation.train_test_split(\n",
      "                        X_random_10, Y, test_size=0.25, random_state=rs)\n",
      "    for k, c_k in zip(k_values, range(len(k_values))):\n",
      "        value = accuracy_for_k_val2(k=k,x_train=x_train, x_val=x_val, y_train=y_train, y_val=y_val)\n",
      "        values[c_k,c_rs] = value\n",
      "\n",
      "sns.tsplot(values.T)\n",
      "plt.xlabel('k')\n",
      "plt.ylabel('accuracy')\n",
      "plt.title('K-Nearest Neighbors Accuracy Using 10 Random Voxels')\n",
      "plt.show()"
     ],
     "language": "python",
     "metadata": {},
     "outputs": [
      {
       "metadata": {},
       "output_type": "display_data",
       "png": "[encoded data removed]",
       "text": [
        "<matplotlib.figure.Figure at 0x22d39e8>"
       ]
      }
     ],
     "prompt_number": 16
    },
    {
     "cell_type": "markdown",
     "metadata": {},
     "source": [
      "We have similar results, with accuracy peaking at 35%.  This consistency is surprising, considering that each time I rerun this code, a completely different set of 10 voxels is chosen.\n",
      "\n",
      "Let's see if varying the number of voxels changes the results.  We will run the test twice using 3 voxels."
     ]
    },
    {
     "cell_type": "code",
     "collapsed": false,
     "input": [
      "#K-Nearest Neighbor Classification Using 3 Randomly Chosen Voxels\n",
      "\n",
      "rand_voxels = random.sample(range(X.shape[1]), 3)\n",
      "X_random_3 = X.ix[:,rand_voxels]\n",
      "\n",
      "k_values = range(1,40)\n",
      "random_seeds = np.random.randint(1000, size=50)\n",
      "\n",
      "values = np.zeros((len(k_values),random_seeds.shape[0]))\n",
      "for rs,c_rs in zip(random_seeds, range(random_seeds.shape[0])):\n",
      "    x_train, x_val, y_train, y_val = sklearn.cross_validation.train_test_split(\n",
      "                        X_random_3, Y, test_size=0.25, random_state=rs)\n",
      "    for k, c_k in zip(k_values, range(len(k_values))):\n",
      "        value = accuracy_for_k_val2(k=k,x_train=x_train, x_val=x_val, y_train=y_train, y_val=y_val)\n",
      "        values[c_k,c_rs] = value\n",
      "\n",
      "sns.tsplot(values.T)\n",
      "plt.xlabel('k')\n",
      "plt.ylabel('accuracy')\n",
      "plt.title('K-Nearest Neighbors Accuracy Using 3 Random Voxels')\n",
      "plt.show()"
     ],
     "language": "python",
     "metadata": {},
     "outputs": [
      {
       "metadata": {},
       "output_type": "display_data",
       "png": "[encoded data removed]",
       "text": [
        "<matplotlib.figure.Figure at 0x176799b0>"
       ]
      }
     ],
     "prompt_number": 21
    },
    {
     "cell_type": "code",
     "collapsed": false,
     "input": [
      "# K-Nearest Neighbor Classification Using 3 Randomly Chosen Voxels - AGAIN\n",
      "\n",
      "rand_voxels = random.sample(range(X.shape[1]), 3)\n",
      "X_random_3 = X.ix[:,rand_voxels]\n",
      "\n",
      "k_values = range(1,20)\n",
      "random_seeds = np.random.randint(1000, size=50)\n",
      "\n",
      "values = np.zeros((len(k_values),random_seeds.shape[0]))\n",
      "for rs,c_rs in zip(random_seeds, range(random_seeds.shape[0])):\n",
      "    x_train, x_val, y_train, y_val = sklearn.cross_validation.train_test_split(\n",
      "                        X_random_3, Y, test_size=0.25, random_state=rs)\n",
      "    for k, c_k in zip(k_values, range(len(k_values))):\n",
      "        value = accuracy_for_k_val2(k=k,x_train=x_train, x_val=x_val, y_train=y_train, y_val=y_val)\n",
      "        values[c_k,c_rs] = value\n",
      "\n",
      "sns.tsplot(values.T)\n",
      "plt.xlabel('k')\n",
      "plt.ylabel('accuracy')\n",
      "plt.title('K-Nearest Neighbors Accuracy Using 3 Random Voxels')\n",
      "plt.show()"
     ],
     "language": "python",
     "metadata": {},
     "outputs": [
      {
       "metadata": {},
       "output_type": "display_data",
       "png": "[encoded data removed]",
       "text": [
        "<matplotlib.figure.Figure at 0x1f059f98>"
       ]
      }
     ],
     "prompt_number": 22
    },
    {
     "cell_type": "markdown",
     "metadata": {},
     "source": [
      "The max accuracy using 3 voxels varies between 30 and 40%, but the variation of the result when I rerun the code has gone up.  Such variation can be expected using so few voxels, because the ability of the classifier to accurately predict will depend on whether the 3 voxels happens to be informative and useful or noninformative and useless.  It would seem that we should use more than 3 sample voxels if we want to avoid high accuracy variance.\n"
     ]
    },
    {
     "cell_type": "markdown",
     "metadata": {},
     "source": [
      "Before continuing with this process of iteratively running tests, I must acknowledge that this process is inefficient.  It would be helpful to have a function to run different sized groups of randomly selected voxels automatically.  While I am at it, I should also build functions to handle other forms of voxel selection, such as highest reponse value.  Therefore, I will break from the analysis of the K-Nearest Neighbors Classifier to create some functions to handle the different ways of selecting voxels."
     ]
    },
    {
     "cell_type": "heading",
     "level": 1,
     "metadata": {},
     "source": [
      "Voxel Selection (Classifier Feature Selection)"
     ]
    },
    {
     "cell_type": "markdown",
     "metadata": {},
     "source": [
      "I will test 7 different ways of selecting which voxels to feed into a classifier.\n",
      "1. Randomly Select Voxels\n",
      "3. Use Voxels with Highest Response Values\n",
      "3. Use Voxels with Favorable Variances\n",
      "4. Use Voxels with Favorable Image Variances\n",
      "5. Use the Two Most Important Voxels\n",
      "6. Use Preselected Voxels & Classifying all Data-Point\n",
      "7. Use Preselected Voxels & Classifying only Image Types 2 and 3 Data-point\n",
      "\n",
      "Highest response voxels are those that at some point during the experiment gave the highest of all responses.\n",
      "\n",
      "Favorable variance voxels are those whose variance ratio then more likely to be \"informative\".  To get the numerator of the variance ratio, I calculated the mean response for each image type and took the standard deviation of those means. To get the denominator, I found the standard deviation of responses within each image type, and took the mean of these.  I then select voxels with maximum variance ratios.\n",
      "\n",
      "Favorable Image Variance voxels are calculated in a similar manner to favorable variance voxels, accept with more focus on specific image types.  For each image type, I get a variance ratio.  To get the numerator, I find the difference between the image type's mean and the means from the other image types, and take the standard deviation of these differences. To get the denominator, I use only the standard deviation of responses within the image type.  I then select voxels with maximum variance ratios for all four image types so that each image type is represented in the mix.  Theoretically, this will ensure that there are at least some voxels included that are sensitive to each image type.\n",
      "\n",
      "The two most important voxels are selected by feeding favorable image variance voxels into a decision tree.  I then use the feature importance method to select the two most important voxels.\n",
      "\n",
      "Preselected voxels use a preselected set of the highly informative voxels that reside in the PIT region of the brain.  These voxels are especially good at differentiating between image type 2 (faces) and type 3 (objects)."
     ]
    },
    {
     "cell_type": "markdown",
     "metadata": {},
     "source": [
      "### Voxels Selection: Random "
     ]
    },
    {
     "cell_type": "code",
     "collapsed": false,
     "input": [
      "# Function for Feeding Randomly Selected Voxels to a Classifier\n",
      "\n",
      "def classify_random(classifier):\n",
      "    test_values = [1,5,10,20,50,100]\n",
      "    values = np.zeros((len(test_values),2))\n",
      "    for i in range(len(test_values)):\n",
      "        values[i,0]=test_values[i]\n",
      "        rand_voxels = random.sample(range(X.shape[1]), test_values[i])\n",
      "        X_random = X.ix[:,rand_voxels]\n",
      "        values[i,1] = classifier(X_random,Y)\n",
      "    return values\n",
      "\n",
      "def classify_random_max(classifier):\n",
      "    values = classify_random(classifier)\n",
      "    return np.max(values[:,1])"
     ],
     "language": "python",
     "metadata": {},
     "outputs": [],
     "prompt_number": 551
    },
    {
     "cell_type": "markdown",
     "metadata": {},
     "source": [
      "### Voxels Selection: Highest Response "
     ]
    },
    {
     "cell_type": "code",
     "collapsed": false,
     "input": [
      "# Function for Feeding Highest Response Voxels to a Classifier\n",
      "\n",
      "def classify_highest(classifier,quantity):\n",
      "    response_sum = X.abs().sum(axis=0)\n",
      "    max_list = np.zeros(quantity)\n",
      "    for i in range(quantity):\n",
      "        max_list[i] = response_sum.argmax()\n",
      "        response_sum[max_list[i]]=0\n",
      "    X_highest = X.ix[:,max_list]\n",
      "    return classifier(X_highest,Y)"
     ],
     "language": "python",
     "metadata": {},
     "outputs": [],
     "prompt_number": 552
    },
    {
     "cell_type": "markdown",
     "metadata": {},
     "source": [
      "### Voxel Selection: Favorable Variance"
     ]
    },
    {
     "cell_type": "code",
     "collapsed": false,
     "input": [
      "# Determine the Variance Favorability Score for Each of the Voxels\n",
      "\n",
      "sds = np.zeros((3,X.shape[1]))\n",
      "meanarray = np.zeros((6,X.shape[1]))\n",
      "meanarray2 = np.zeros((6,X.shape[1]))\n",
      "for i in range(6):\n",
      "    meanarray[i,:] = X.ix[range(24*i,24*(i+1)),:].mean() #The mean of responses to one image type\n",
      "    meanarray2[i,:] = X.ix[range(24*i,24*(i+1)),:].std() #The std of of responses to one image type\n",
      "sds[0,:]=np.std(meanarray, axis=0)\n",
      "sds[1,:]=np.mean(meanarray2, axis=0)\n",
      "sds[2,:]=sds[0,:]/sds[1,:]\n"
     ],
     "language": "python",
     "metadata": {},
     "outputs": [],
     "prompt_number": 553
    },
    {
     "cell_type": "code",
     "collapsed": false,
     "input": [
      "# Function for Feeding Most Favorable Variance Voxels to a Classifier\n",
      "\n",
      "def classify_fav(classifier,quantity):\n",
      "    sd_df = pd.Series(sds[2,:])\n",
      "    fav_list = np.zeros(quantity)\n",
      "    for i in range(quantity):\n",
      "        fav_list[i] = sd_df.argmax()\n",
      "        sd_df[fav_list[i]]=0\n",
      "    X_fav = X.ix[:,fav_list]\n",
      "    return classifier(X_fav,Y)\n"
     ],
     "language": "python",
     "metadata": {},
     "outputs": [],
     "prompt_number": 554
    },
    {
     "cell_type": "markdown",
     "metadata": {},
     "source": [
      "### Voxel Selection: Favorable Image Variances"
     ]
    },
    {
     "cell_type": "code",
     "collapsed": false,
     "input": [
      "# Determine a Variance Favorability Scores for Each Image and for Each of the Voxels\n",
      "\n",
      "diffs1 = np.zeros((3,X.shape[1]))\n",
      "diffs2 = np.zeros((3,X.shape[1]))\n",
      "diffs3 = np.zeros((3,X.shape[1]))\n",
      "diffs4 = np.zeros((3,X.shape[1]))\n",
      "sd_ratio_by_image = np.zeros((8,X.shape[1]))\n",
      "meanarray = np.zeros((6,X.shape[1]))\n",
      "meanarray2 = np.zeros((6,X.shape[1]))\n",
      "for i in range(6):\n",
      "    meanarray[i,:] = X.ix[range(24*i,24*(i+1)),:].mean()\n",
      "    meanarray2[i,:]= X.ix[range(24*i,24*(i+1)),:].std()\n",
      "    \n",
      "diffs1[0,:] = meanarray[0,:]-meanarray[1,:]\n",
      "diffs1[1,:] = meanarray[0,:]-meanarray[2,:]\n",
      "diffs1[2,:] = meanarray[0,:]-meanarray[3,:]\n",
      "diffs2[0,:] = meanarray[1,:]-meanarray[0,:]\n",
      "diffs2[1,:] = meanarray[1,:]-meanarray[2,:]\n",
      "diffs2[2,:] = meanarray[1,:]-meanarray[3,:]\n",
      "diffs3[0,:] = meanarray[2,:]-meanarray[0,:]\n",
      "diffs3[1,:] = meanarray[2,:]-meanarray[1,:]\n",
      "diffs3[2,:] = meanarray[2,:]-meanarray[3,:]\n",
      "diffs4[0,:] = meanarray[3,:]-meanarray[0,:]\n",
      "diffs4[1,:] = meanarray[3,:]-meanarray[1,:]\n",
      "diffs4[2,:] = meanarray[3,:]-meanarray[2,:]\n",
      "sd_ratio_by_image[0,:]=np.std(diffs1, axis=0)\n",
      "sd_ratio_by_image[1,:]=np.std(diffs2, axis=0)\n",
      "sd_ratio_by_image[2,:]=np.std(diffs3, axis=0)\n",
      "sd_ratio_by_image[3,:]=np.std(diffs4, axis=0)\n",
      "sd_ratio_by_image[4,:]=sd_ratio_by_image[0,:]/meanarray2[0,:]\n",
      "sd_ratio_by_image[5,:]=sd_ratio_by_image[1,:]/meanarray2[1,:]\n",
      "sd_ratio_by_image[6,:]=sd_ratio_by_image[2,:]/meanarray2[2,:]\n",
      "sd_ratio_by_image[7,:]=sd_ratio_by_image[3,:]/meanarray2[3,:]\n"
     ],
     "language": "python",
     "metadata": {},
     "outputs": [],
     "prompt_number": 555
    },
    {
     "cell_type": "code",
     "collapsed": false,
     "input": [
      "# Function for Feeding Most Favorable Image Variance Voxels to a Classifier\n",
      "\n",
      "def classify_fav_image(classifier,quantity):\n",
      "    sd_df1 = pd.Series(sd_ratio_by_image[4,:])\n",
      "    sd_df2 = pd.Series(sd_ratio_by_image[5,:])\n",
      "    sd_df3 = pd.Series(sd_ratio_by_image[6,:])\n",
      "    sd_df4 = pd.Series(sd_ratio_by_image[7,:])\n",
      "    fav_list = np.zeros(quantity)\n",
      "    for i in range(quantity/4):\n",
      "        fav_list[i*4] = sd_df1.argmax()\n",
      "        sd_df1[fav_list[i*4]]=0\n",
      "        fav_list[i*4+1] = sd_df2.argmax()\n",
      "        sd_df2[fav_list[i*4+1]]=0\n",
      "        fav_list[i*4+2] = sd_df3.argmax()\n",
      "        sd_df3[fav_list[i*4+2]]=0\n",
      "        fav_list[i*4+3] = sd_df4.argmax()\n",
      "        sd_df4[fav_list[i*4+3]]=0\n",
      "    X_fav_image = X.ix[:,fav_list]\n",
      "    return classifier(X_fav_image,Y)\n",
      " "
     ],
     "language": "python",
     "metadata": {},
     "outputs": [],
     "prompt_number": 556
    },
    {
     "cell_type": "markdown",
     "metadata": {},
     "source": [
      "### Voxels Selection: Two Most Important "
     ]
    },
    {
     "cell_type": "code",
     "collapsed": false,
     "input": [
      "# First we must identify the Two Most Important Voxels using the Feature Importance method.\n",
      "# To do this, let's choose from our Favorable Image Variance voxel set.\n",
      "# We will use decision trees to give us our most important features.\n",
      "\n",
      "quantity = 40\n",
      "sd_df1 = pd.Series(sd_ratio_by_image[4,:])\n",
      "sd_df2 = pd.Series(sd_ratio_by_image[5,:])\n",
      "sd_df3 = pd.Series(sd_ratio_by_image[6,:])\n",
      "sd_df4 = pd.Series(sd_ratio_by_image[7,:])\n",
      "fav_list = np.zeros(quantity)\n",
      "for i in range(quantity/4):\n",
      "    fav_list[i*4] = sd_df1.argmax()\n",
      "    sd_df1[fav_list[i*4]]=0\n",
      "    fav_list[i*4+1] = sd_df2.argmax()\n",
      "    sd_df2[fav_list[i*4+1]]=0\n",
      "    fav_list[i*4+2] = sd_df3.argmax()\n",
      "    sd_df3[fav_list[i*4+2]]=0\n",
      "    fav_list[i*4+3] = sd_df4.argmax()\n",
      "    sd_df4[fav_list[i*4+3]]=0\n",
      "X_temp = np.zeros((X.shape[0],quantity))\n",
      "for i in range(quantity):\n",
      "    for j in range(X.shape[0]):\n",
      "        X_temp[j,i] = X.ix[j,fav_list[i]]\n",
      "X_temp = pd.DataFrame(X_temp)\n",
      "decisionTree1 = sklearn.tree.DecisionTreeClassifier()\n",
      "decisionTree2 = sklearn.tree.DecisionTreeClassifier()\n",
      "decisionTree3 = sklearn.tree.DecisionTreeClassifier()\n",
      "decisionTree1.fit(X_temp,Y)\n",
      "decisionTree2.fit(X_temp,Y)\n",
      "decisionTree3.fit(X_temp,Y)\n",
      "importances = decisionTree1.feature_importances_ + decisionTree2.feature_importances_ + decisionTree3.feature_importances_ \n",
      "voxel1 = importances.argmax()\n",
      "importances[voxel1] = 0\n",
      "voxel2 = importances.argmax()\n",
      "X_important = X_temp[[voxel1,voxel2]] #Here is our set of two voxels!!!\n"
     ],
     "language": "python",
     "metadata": {},
     "outputs": [],
     "prompt_number": 557
    },
    {
     "cell_type": "code",
     "collapsed": false,
     "input": [
      "# Function to classify the Two Most Important Voxels\n",
      "\n",
      "def classify_important(classifier):\n",
      "    return classifier(X_important,Y)"
     ],
     "language": "python",
     "metadata": {},
     "outputs": [],
     "prompt_number": 558
    },
    {
     "cell_type": "markdown",
     "metadata": {},
     "source": [
      "### Voxel Selection: Preselected Voxels (With Option to Limit to Image Types 2 and 3 Only)"
     ]
    },
    {
     "cell_type": "code",
     "collapsed": false,
     "input": [
      "# We must read in the Preselected Voxels dataframe.\n",
      "\n",
      "DFXYPIT = pd.read_csv('ClassifierDataframePIT.csv', header=None) #This dataframe includes only 422 voxels!\n",
      "\n",
      "# We must create X and Y dataframes to be fed to a classifier\n",
      "X_PIT = DFXYPIT.ix[:,2:].values  #This is all of the response values for all of the voxels\n",
      "X_PIT = pd.DataFrame(X_PIT)\n",
      "Y_PIT = DFXYPIT.ix[:,0]   #This lists the class for each row\n",
      "\n",
      "# This special region is really good at identifying image type 2.  Therefore, let's see what happens \n",
      "# if we narrow down the data to only contian image types 2 and 3.\n",
      "X_PIT2 = X_PIT.ix[((DFXYPIT.ix[:,0]==2)|(DFXYPIT.ix[:,0]==3)),]\n",
      "Y_PIT2 = Y_PIT.ix[((DFXYPIT.ix[:,0]==2)|(DFXYPIT.ix[:,0]==3)),]\n"
     ],
     "language": "python",
     "metadata": {},
     "outputs": [],
     "prompt_number": 559
    },
    {
     "cell_type": "code",
     "collapsed": false,
     "input": [
      "# Function for Feeding Preselected Voxels to a Classifier\n",
      "\n",
      "def classify_preselected(classifier):\n",
      "    return classifier(X_PIT,Y_PIT)"
     ],
     "language": "python",
     "metadata": {},
     "outputs": [],
     "prompt_number": 560
    },
    {
     "cell_type": "code",
     "collapsed": false,
     "input": [
      "# Function for Feeding Preselected Voxels to a Classifier Using only Image Types 2 and 3\n",
      "\n",
      "def classify_preselected2(classifier):\n",
      "    return classifier(X_PIT2,Y_PIT2)\n"
     ],
     "language": "python",
     "metadata": {},
     "outputs": [],
     "prompt_number": 561
    },
    {
     "cell_type": "heading",
     "level": 1,
     "metadata": {},
     "source": [
      "Classifiers"
     ]
    },
    {
     "cell_type": "markdown",
     "metadata": {},
     "source": [
      "I will test 6 different Machine Learning Classifiers:\n",
      "1. K-Nearest Neighbors\n",
      "2. Decision Trees\n",
      "3. Random Forest\n",
      "4. Support Vector Machines\n",
      "5. Gaussian Naive Bayes\n",
      "6. Bernoulli Naive Bayes"
     ]
    },
    {
     "cell_type": "markdown",
     "metadata": {},
     "source": [
      "## K-Nearest Neighbors Classifier\n",
      "\n",
      "Let's start by creating a KNN function to automate the classifier's use."
     ]
    },
    {
     "cell_type": "code",
     "collapsed": false,
     "input": [
      "# K-Nearest Neighbors Classifier Function (returns the mean accuracy at the optimal k value (up to 50))\n",
      "\n",
      "def accuracy_for_k_val2(k,x_train, x_val, y_train, y_val):\n",
      "        knn = sklearn.neighbors.KNeighborsClassifier(n_neighbors=k, weights = 'uniform')\n",
      "        knn.fit(x_train,y_train)\n",
      "        y_hat = knn.predict(x_val)\n",
      "        return sklearn.metrics.accuracy_score(y_val, y_hat, normalize=True)\n",
      "\n",
      "def KNN(X,Y):\n",
      "    k_values = range(1,50)\n",
      "    random_seeds = np.random.randint(1000, size=10)\n",
      "    \n",
      "    values = np.zeros((len(k_values),random_seeds.shape[0]))\n",
      "    for rs,c_rs in zip(random_seeds, range(random_seeds.shape[0])):\n",
      "        x_train, x_val, y_train, y_val = sklearn.cross_validation.train_test_split(\n",
      "                            X, Y, test_size=0.25, random_state=rs)\n",
      "        for k, c_k in zip(k_values, range(len(k_values))):\n",
      "            value = accuracy_for_k_val2(k=k,x_train=x_train, x_val=x_val, y_train=y_train, y_val=y_val)\n",
      "            values[c_k,c_rs] = value\n",
      "    mean_values = np.zeros((1,random_seeds.shape[0]))\n",
      "    mean_values = np.mean(values)\n",
      "    return np.max(mean_values)\n"
     ],
     "language": "python",
     "metadata": {},
     "outputs": [],
     "prompt_number": 562
    },
    {
     "cell_type": "markdown",
     "metadata": {},
     "source": [
      "Now let's calcualte accuracy rates."
     ]
    },
    {
     "cell_type": "code",
     "collapsed": false,
     "input": [
      "# K-Nearest Neighbor - Random Voxels\n",
      "classify_random(KNN)"
     ],
     "language": "python",
     "metadata": {},
     "outputs": [
      {
       "metadata": {},
       "output_type": "pyout",
       "prompt_number": 563,
       "text": [
        "array([[   1.        ,    0.32335601],\n",
        "       [   5.        ,    0.28452381],\n",
        "       [  10.        ,    0.25385488],\n",
        "       [  20.        ,    0.49563492],\n",
        "       [  50.        ,    0.50646259],\n",
        "       [ 100.        ,    0.43911565]])"
       ]
      }
     ],
     "prompt_number": 563
    },
    {
     "cell_type": "code",
     "collapsed": false,
     "input": [
      "# K-Nearest Neighbor - Highest Response Voxels\n",
      "print classify_highest(KNN,10)\n",
      "print classify_highest(KNN,50)\n",
      "print classify_highest(KNN,200)"
     ],
     "language": "python",
     "metadata": {},
     "outputs": [
      {
       "output_type": "stream",
       "stream": "stdout",
       "text": [
        "0.33514739229\n",
        "0.447902494331"
       ]
      },
      {
       "output_type": "stream",
       "stream": "stdout",
       "text": [
        "\n",
        "0.440532879819"
       ]
      },
      {
       "output_type": "stream",
       "stream": "stdout",
       "text": [
        "\n"
       ]
      }
     ],
     "prompt_number": 564
    },
    {
     "cell_type": "code",
     "collapsed": false,
     "input": [
      "# K-Nearest Neighbor - Favorable Variance Voxels\n",
      "print classify_fav(KNN,10)\n",
      "print classify_fav(KNN,50)\n",
      "print classify_fav(KNN,100)\n",
      "print classify_fav(KNN,500)"
     ],
     "language": "python",
     "metadata": {},
     "outputs": [
      {
       "output_type": "stream",
       "stream": "stdout",
       "text": [
        "0.726247165533\n",
        "0.702664399093"
       ]
      },
      {
       "output_type": "stream",
       "stream": "stdout",
       "text": [
        "\n",
        "0.736451247166"
       ]
      },
      {
       "output_type": "stream",
       "stream": "stdout",
       "text": [
        "\n",
        "0.799263038549"
       ]
      },
      {
       "output_type": "stream",
       "stream": "stdout",
       "text": [
        "\n"
       ]
      }
     ],
     "prompt_number": 565
    },
    {
     "cell_type": "code",
     "collapsed": false,
     "input": [
      "# K-Nearest Neighbor - Favorable Image Variances Voxels\n",
      "print classify_fav_image(KNN,10)\n",
      "print classify_fav_image(KNN,50)\n",
      "print classify_fav_image(KNN,100)\n",
      "print classify_fav_image(KNN,500)"
     ],
     "language": "python",
     "metadata": {},
     "outputs": [
      {
       "output_type": "stream",
       "stream": "stdout",
       "text": [
        "0.674716553288\n",
        "0.719444444444"
       ]
      },
      {
       "output_type": "stream",
       "stream": "stdout",
       "text": [
        "\n",
        "0.736904761905"
       ]
      },
      {
       "output_type": "stream",
       "stream": "stdout",
       "text": [
        "\n",
        "0.73656462585"
       ]
      },
      {
       "output_type": "stream",
       "stream": "stdout",
       "text": [
        "\n"
       ]
      }
     ],
     "prompt_number": 566
    },
    {
     "cell_type": "code",
     "collapsed": false,
     "input": [
      "# K-Nearest Neighbor - Two Most Important Voxels\n",
      "classify_important(KNN)"
     ],
     "language": "python",
     "metadata": {},
     "outputs": [
      {
       "metadata": {},
       "output_type": "pyout",
       "prompt_number": 568,
       "text": [
        "0.70527210884353742"
       ]
      }
     ],
     "prompt_number": 568
    },
    {
     "cell_type": "code",
     "collapsed": false,
     "input": [
      "# K-Nearest Neighbor - Preselected Voxels\n",
      "classify_preselected(KNN)"
     ],
     "language": "python",
     "metadata": {},
     "outputs": [
      {
       "metadata": {},
       "output_type": "pyout",
       "prompt_number": 569,
       "text": [
        "0.64172335600907116"
       ]
      }
     ],
     "prompt_number": 569
    },
    {
     "cell_type": "code",
     "collapsed": false,
     "input": [
      "# K-Nearest Neighbor - Preselected Voxels - Limited to Image Types 2 and 3\n",
      "classify_preselected2(KNN)"
     ],
     "language": "python",
     "metadata": {},
     "outputs": [
      {
       "metadata": {},
       "output_type": "pyout",
       "prompt_number": 570,
       "text": [
        "0.89617346938775433"
       ]
      }
     ],
     "prompt_number": 570
    },
    {
     "cell_type": "markdown",
     "metadata": {},
     "source": [
      "## Decision Tree Classifier\n",
      "\n",
      "Let's start by writing a DT function"
     ]
    },
    {
     "cell_type": "code",
     "collapsed": false,
     "input": [
      "# Decision Tree Classifier Function (returns the mean accuracy)\n",
      "\n",
      "def accuracy_for_d_tree(x_train, x_val, y_train, y_val):\n",
      "    decisionTree = sklearn.tree.DecisionTreeClassifier()\n",
      "    decisionTree.fit(x_train, y_train)\n",
      "    y_hat = decisionTree.predict(x_val)\n",
      "    return sklearn.metrics.accuracy_score(y_val, y_hat, normalize=True)\n",
      "\n",
      "def DT(X,Y):\n",
      "    random_seeds = np.random.randint(1000, size=10)\n",
      "    values = np.zeros((random_seeds.shape[0]))\n",
      "    for rs,c_rs in zip(random_seeds, range(random_seeds.shape[0])):\n",
      "        x_train, x_val, y_train, y_val = sklearn.cross_validation.train_test_split(\n",
      "                            X, Y, test_size=0.25, random_state=rs)\n",
      "        value = accuracy_for_d_tree(x_train=x_train, x_val=x_val, y_train=y_train, y_val=y_val)\n",
      "        values[c_rs] = value\n",
      "            \n",
      "    return np.mean(values)"
     ],
     "language": "python",
     "metadata": {},
     "outputs": [],
     "prompt_number": 571
    },
    {
     "cell_type": "markdown",
     "metadata": {},
     "source": [
      "Now let's calcualte accuracy rates."
     ]
    },
    {
     "cell_type": "code",
     "collapsed": false,
     "input": [
      "# Decision Tree - Random Voxels\n",
      "classify_random(DT)"
     ],
     "language": "python",
     "metadata": {},
     "outputs": [
      {
       "metadata": {},
       "output_type": "pyout",
       "prompt_number": 572,
       "text": [
        "array([[   1.        ,    0.24444444],\n",
        "       [   5.        ,    0.26388889],\n",
        "       [  10.        ,    0.26111111],\n",
        "       [  20.        ,    0.51944444],\n",
        "       [  50.        ,    0.5       ],\n",
        "       [ 100.        ,    0.33611111]])"
       ]
      }
     ],
     "prompt_number": 572
    },
    {
     "cell_type": "code",
     "collapsed": false,
     "input": [
      "# Decision Tree - Highest Response Voxels\n",
      "print classify_highest(DT,10)\n",
      "print classify_highest(DT,50)\n",
      "print classify_highest(DT,200)"
     ],
     "language": "python",
     "metadata": {},
     "outputs": [
      {
       "output_type": "stream",
       "stream": "stdout",
       "text": [
        "0.438888888889\n",
        "0.422222222222"
       ]
      },
      {
       "output_type": "stream",
       "stream": "stdout",
       "text": [
        "\n",
        "0.441666666667"
       ]
      },
      {
       "output_type": "stream",
       "stream": "stdout",
       "text": [
        "\n"
       ]
      }
     ],
     "prompt_number": 573
    },
    {
     "cell_type": "code",
     "collapsed": false,
     "input": [
      "# Decision Tree - Favorable Variance Voxels\n",
      "print classify_fav(DT,10)\n",
      "print classify_fav(DT,50)\n",
      "print classify_fav(DT,100)\n",
      "print classify_fav(DT,500)"
     ],
     "language": "python",
     "metadata": {},
     "outputs": [
      {
       "output_type": "stream",
       "stream": "stdout",
       "text": [
        "0.477777777778\n",
        "0.508333333333"
       ]
      },
      {
       "output_type": "stream",
       "stream": "stdout",
       "text": [
        "\n",
        "0.513888888889"
       ]
      },
      {
       "output_type": "stream",
       "stream": "stdout",
       "text": [
        "\n",
        "0.455555555556"
       ]
      },
      {
       "output_type": "stream",
       "stream": "stdout",
       "text": [
        "\n"
       ]
      }
     ],
     "prompt_number": 574
    },
    {
     "cell_type": "code",
     "collapsed": false,
     "input": [
      "# Decision Tree - Favorable Image Variances Voxels\n",
      "print classify_fav_image(DT,10)\n",
      "print classify_fav_image(DT,50)\n",
      "print classify_fav_image(DT,100)\n",
      "print classify_fav_image(DT,500)"
     ],
     "language": "python",
     "metadata": {},
     "outputs": [
      {
       "output_type": "stream",
       "stream": "stdout",
       "text": [
        "0.586111111111\n",
        "0.675"
       ]
      },
      {
       "output_type": "stream",
       "stream": "stdout",
       "text": [
        "\n",
        "0.694444444444"
       ]
      },
      {
       "output_type": "stream",
       "stream": "stdout",
       "text": [
        "\n",
        "0.669444444444"
       ]
      },
      {
       "output_type": "stream",
       "stream": "stdout",
       "text": [
        "\n"
       ]
      }
     ],
     "prompt_number": 575
    },
    {
     "cell_type": "code",
     "collapsed": false,
     "input": [
      "# Decision Tree - Two Most Important Voxels\n",
      "classify_important(DT)"
     ],
     "language": "python",
     "metadata": {},
     "outputs": [
      {
       "metadata": {},
       "output_type": "pyout",
       "prompt_number": 576,
       "text": [
        "0.67777777777777781"
       ]
      }
     ],
     "prompt_number": 576
    },
    {
     "cell_type": "code",
     "collapsed": false,
     "input": [
      "# Decision Tree - Preselected Voxels\n",
      "classify_preselected(DT)"
     ],
     "language": "python",
     "metadata": {},
     "outputs": [
      {
       "metadata": {},
       "output_type": "pyout",
       "prompt_number": 577,
       "text": [
        "0.59166666666666656"
       ]
      }
     ],
     "prompt_number": 577
    },
    {
     "cell_type": "code",
     "collapsed": false,
     "input": [
      "# Decision Tree - Preselected Voxels - Limited to Image Types 2 and 3\n",
      "classify_preselected2(DT)"
     ],
     "language": "python",
     "metadata": {},
     "outputs": [
      {
       "metadata": {},
       "output_type": "pyout",
       "prompt_number": 578,
       "text": [
        "0.875"
       ]
      }
     ],
     "prompt_number": 578
    },
    {
     "cell_type": "markdown",
     "metadata": {},
     "source": [
      "## Random Forest Classifier\n",
      "\n",
      "Let's start by writing a RF function"
     ]
    },
    {
     "cell_type": "code",
     "collapsed": false,
     "input": [
      "# Random Forest Classifier Function (returns the mean accuracy at the optimal n value (up to 50))\n",
      "\n",
      "def accuracy_for_RF(n,x_train, x_val, y_train, y_val):\n",
      "        forest = RandomForestClassifier(n_estimators=n)\n",
      "        forest.fit(x_train,y_train)\n",
      "        y_hat = forest.predict(x_val)\n",
      "        return sklearn.metrics.accuracy_score(y_val, y_hat, normalize=True)\n",
      "\n",
      "def RF(X,Y):\n",
      "    n_values = [2,5,10,20,50]\n",
      "    random_seeds = np.random.randint(1000, size=10)\n",
      "    \n",
      "    values = np.zeros((len(n_values),random_seeds.shape[0]))\n",
      "    for rs,c_rs in zip(random_seeds, range(random_seeds.shape[0])):\n",
      "        x_train, x_val, y_train, y_val = sklearn.cross_validation.train_test_split(\n",
      "                            X, Y, test_size=0.25, random_state=rs)\n",
      "        for n, c_n in zip(n_values, range(len(n_values))):\n",
      "            value = accuracy_for_RF(n=n,x_train=x_train, x_val=x_val, y_train=y_train, y_val=y_val)\n",
      "            values[c_n,c_rs] = value\n",
      "    mean_values = np.zeros((1,random_seeds.shape[0]))\n",
      "    mean_values = np.mean(values)\n",
      "    return np.max(mean_values)\n"
     ],
     "language": "python",
     "metadata": {},
     "outputs": [],
     "prompt_number": 579
    },
    {
     "cell_type": "markdown",
     "metadata": {},
     "source": [
      "Now let's calcualte accuracy rates."
     ]
    },
    {
     "cell_type": "code",
     "collapsed": false,
     "input": [
      "# Random Forest - Random Voxels\n",
      "classify_random(RF)"
     ],
     "language": "python",
     "metadata": {},
     "outputs": [
      {
       "metadata": {},
       "output_type": "pyout",
       "prompt_number": 580,
       "text": [
        "array([[   1.        ,    0.25      ],\n",
        "       [   5.        ,    0.31166667],\n",
        "       [  10.        ,    0.49944444],\n",
        "       [  20.        ,    0.38611111],\n",
        "       [  50.        ,    0.4       ],\n",
        "       [ 100.        ,    0.44166667]])"
       ]
      }
     ],
     "prompt_number": 580
    },
    {
     "cell_type": "code",
     "collapsed": false,
     "input": [
      "# Random Forest - Highest Response Voxels\n",
      "print classify_highest(RF,10)\n",
      "print classify_highest(RF,50)\n",
      "print classify_highest(RF,200)"
     ],
     "language": "python",
     "metadata": {},
     "outputs": [
      {
       "output_type": "stream",
       "stream": "stdout",
       "text": [
        "0.427777777778\n",
        "0.503888888889"
       ]
      },
      {
       "output_type": "stream",
       "stream": "stdout",
       "text": [
        "\n",
        "0.475"
       ]
      },
      {
       "output_type": "stream",
       "stream": "stdout",
       "text": [
        "\n"
       ]
      }
     ],
     "prompt_number": 581
    },
    {
     "cell_type": "code",
     "collapsed": false,
     "input": [
      "# Random Forest - Favorable Variance Voxels\n",
      "print classify_fav(RF,10)\n",
      "print classify_fav(RF,50)\n",
      "print classify_fav(RF,100)\n",
      "print classify_fav(RF,500)"
     ],
     "language": "python",
     "metadata": {},
     "outputs": [
      {
       "output_type": "stream",
       "stream": "stdout",
       "text": [
        "0.412222222222\n",
        "0.538333333333"
       ]
      },
      {
       "output_type": "stream",
       "stream": "stdout",
       "text": [
        "\n",
        "0.551111111111"
       ]
      },
      {
       "output_type": "stream",
       "stream": "stdout",
       "text": [
        "\n",
        "0.549444444444"
       ]
      },
      {
       "output_type": "stream",
       "stream": "stdout",
       "text": [
        "\n"
       ]
      }
     ],
     "prompt_number": 582
    },
    {
     "cell_type": "code",
     "collapsed": false,
     "input": [
      "# Random Forest - Favorable Image Variances Voxels\n",
      "print classify_fav_image(RF,10)\n",
      "print classify_fav_image(RF,50)\n",
      "print classify_fav_image(RF,100)\n",
      "print classify_fav_image(RF,500)"
     ],
     "language": "python",
     "metadata": {},
     "outputs": [
      {
       "output_type": "stream",
       "stream": "stdout",
       "text": [
        "0.61\n",
        "0.722777777778"
       ]
      },
      {
       "output_type": "stream",
       "stream": "stdout",
       "text": [
        "\n",
        "0.75"
       ]
      },
      {
       "output_type": "stream",
       "stream": "stdout",
       "text": [
        "\n",
        "0.76"
       ]
      },
      {
       "output_type": "stream",
       "stream": "stdout",
       "text": [
        "\n"
       ]
      }
     ],
     "prompt_number": 583
    },
    {
     "cell_type": "code",
     "collapsed": false,
     "input": [
      "# Random Forest - Two Most Important Voxels\n",
      "classify_important(RF)"
     ],
     "language": "python",
     "metadata": {},
     "outputs": [
      {
       "metadata": {},
       "output_type": "pyout",
       "prompt_number": 584,
       "text": [
        "0.65944444444444428"
       ]
      }
     ],
     "prompt_number": 584
    },
    {
     "cell_type": "code",
     "collapsed": false,
     "input": [
      "# Random Forest - Preselected Voxels\n",
      "classify_preselected(RF)"
     ],
     "language": "python",
     "metadata": {},
     "outputs": [
      {
       "metadata": {},
       "output_type": "pyout",
       "prompt_number": 585,
       "text": [
        "0.64888888888888874"
       ]
      }
     ],
     "prompt_number": 585
    },
    {
     "cell_type": "code",
     "collapsed": false,
     "input": [
      "# Random Forest - Preselected Voxels - Limited to Image Types 2 and 3\n",
      "classify_preselected2(RF)"
     ],
     "language": "python",
     "metadata": {},
     "outputs": [
      {
       "metadata": {},
       "output_type": "pyout",
       "prompt_number": 586,
       "text": [
        "0.91000000000000003"
       ]
      }
     ],
     "prompt_number": 586
    },
    {
     "cell_type": "markdown",
     "metadata": {},
     "source": [
      "## Support Vector Machine\n",
      "\n",
      "Support vectors machines could be the greatest hope for this endevor, as they can better handle a high dimensionality feature space.\n",
      "\n",
      "Let's start by writing an SVM function"
     ]
    },
    {
     "cell_type": "code",
     "collapsed": false,
     "input": [
      "# Support Vector Machine Classifier Function (returns the mean accuracy)\n",
      "\n",
      "def accuracy_for_svm(x_train, x_val, y_train, y_val):\n",
      "    clf = svm.SVC()\n",
      "    clf.fit(x_train, y_train)\n",
      "    y_hat = clf.predict(x_val)\n",
      "    return sklearn.metrics.accuracy_score(y_val, y_hat, normalize=True)\n",
      "\n",
      "\n",
      "def SVM(X,Y):\n",
      "    random_seeds = np.random.randint(1000, size=10)        \n",
      "    values = np.zeros((random_seeds.shape[0]))\n",
      "    for rs,c_rs in zip(random_seeds, range(random_seeds.shape[0])):\n",
      "        x_train, x_val, y_train, y_val = sklearn.cross_validation.train_test_split(\n",
      "                            X, Y, test_size=0.25, random_state=rs)\n",
      "        value = accuracy_for_svm(x_train=x_train, x_val=x_val, y_train=y_train, y_val=y_val)\n",
      "        values[c_rs] = value\n",
      "            \n",
      "    return np.mean(values)"
     ],
     "language": "python",
     "metadata": {},
     "outputs": [],
     "prompt_number": 587
    },
    {
     "cell_type": "markdown",
     "metadata": {},
     "source": [
      "Now let's calcualte accuracy rates."
     ]
    },
    {
     "cell_type": "code",
     "collapsed": false,
     "input": [
      "# Support Vector Machine - Random Voxels\n",
      "classify_random(SVM)"
     ],
     "language": "python",
     "metadata": {},
     "outputs": [
      {
       "metadata": {},
       "output_type": "pyout",
       "prompt_number": 588,
       "text": [
        "array([[   1.        ,    0.31944444],\n",
        "       [   5.        ,    0.35555556],\n",
        "       [  10.        ,    0.29722222],\n",
        "       [  20.        ,    0.39166667],\n",
        "       [  50.        ,    0.35277778],\n",
        "       [ 100.        ,    0.3       ]])"
       ]
      }
     ],
     "prompt_number": 588
    },
    {
     "cell_type": "code",
     "collapsed": false,
     "input": [
      "# Support Vector Machine - Highest Response Voxels\n",
      "print classify_highest(SVM,10)\n",
      "print classify_highest(SVM,50)\n",
      "print classify_highest(SVM,200)"
     ],
     "language": "python",
     "metadata": {},
     "outputs": [
      {
       "output_type": "stream",
       "stream": "stdout",
       "text": [
        "0.283333333333\n",
        "0.330555555556"
       ]
      },
      {
       "output_type": "stream",
       "stream": "stdout",
       "text": [
        "\n",
        "0.297222222222"
       ]
      },
      {
       "output_type": "stream",
       "stream": "stdout",
       "text": [
        "\n"
       ]
      }
     ],
     "prompt_number": 589
    },
    {
     "cell_type": "code",
     "collapsed": false,
     "input": [
      "# Support Vector Machine - Favorable Variance Voxels\n",
      "print classify_fav(SVM,10)\n",
      "print classify_fav(SVM,50)\n",
      "print classify_fav(SVM,100)\n",
      "print classify_fav(SVM,500)"
     ],
     "language": "python",
     "metadata": {},
     "outputs": [
      {
       "output_type": "stream",
       "stream": "stdout",
       "text": [
        "0.380555555556\n",
        "0.391666666667"
       ]
      },
      {
       "output_type": "stream",
       "stream": "stdout",
       "text": [
        "\n",
        "0.316666666667"
       ]
      },
      {
       "output_type": "stream",
       "stream": "stdout",
       "text": [
        "\n",
        "0.325"
       ]
      },
      {
       "output_type": "stream",
       "stream": "stdout",
       "text": [
        "\n"
       ]
      }
     ],
     "prompt_number": 590
    },
    {
     "cell_type": "code",
     "collapsed": false,
     "input": [
      "# Support Vector Machine - Favorable Image Variances Voxels\n",
      "print classify_fav_image(SVM,10)\n",
      "print classify_fav_image(SVM,50)\n",
      "print classify_fav_image(SVM,100)\n",
      "print classify_fav_image(SVM,500)"
     ],
     "language": "python",
     "metadata": {},
     "outputs": [
      {
       "output_type": "stream",
       "stream": "stdout",
       "text": [
        "0.566666666667\n",
        "0.366666666667"
       ]
      },
      {
       "output_type": "stream",
       "stream": "stdout",
       "text": [
        "\n",
        "0.408333333333"
       ]
      },
      {
       "output_type": "stream",
       "stream": "stdout",
       "text": [
        "\n",
        "0.294444444444"
       ]
      },
      {
       "output_type": "stream",
       "stream": "stdout",
       "text": [
        "\n"
       ]
      }
     ],
     "prompt_number": 591
    },
    {
     "cell_type": "code",
     "collapsed": false,
     "input": [
      "# Support Vector Machine - Two Most Important Voxels\n",
      "classify_important(SVM)"
     ],
     "language": "python",
     "metadata": {},
     "outputs": [
      {
       "metadata": {},
       "output_type": "pyout",
       "prompt_number": 592,
       "text": [
        "0.68888888888888888"
       ]
      }
     ],
     "prompt_number": 592
    },
    {
     "cell_type": "code",
     "collapsed": false,
     "input": [
      "# Support Vector Machine - Preselected Voxels\n",
      "classify_preselected(SVM)"
     ],
     "language": "python",
     "metadata": {},
     "outputs": [
      {
       "metadata": {},
       "output_type": "pyout",
       "prompt_number": 593,
       "text": [
        "0.55000000000000004"
       ]
      }
     ],
     "prompt_number": 593
    },
    {
     "cell_type": "code",
     "collapsed": false,
     "input": [
      "# Support Vector Machine - Preselected Voxels - Limited to Image Types 2 and 3\n",
      "classify_preselected2(SVM)"
     ],
     "language": "python",
     "metadata": {},
     "outputs": [
      {
       "metadata": {},
       "output_type": "pyout",
       "prompt_number": 594,
       "text": [
        "0.67916666666666659"
       ]
      }
     ],
     "prompt_number": 594
    },
    {
     "cell_type": "markdown",
     "metadata": {},
     "source": [
      "## Gaussian Naive Bayes Classifier\n",
      "\n",
      "Let's start by writing a GNB function"
     ]
    },
    {
     "cell_type": "code",
     "collapsed": false,
     "input": [
      "# Gaussian Naive Bayes Classifier Function (returns the mean accuracy)\n",
      "\n",
      "def accuracy_for_gnb(x_train, x_val, y_train, y_val):\n",
      "    gnb = GaussianNB()\n",
      "    gnb.fit(x_train, y_train)\n",
      "    y_hat = gnb.predict(x_val)\n",
      "    return sklearn.metrics.accuracy_score(y_val, y_hat, normalize=True)\n",
      "\n",
      "def GNB(X,Y):\n",
      "    random_seeds = np.random.randint(1000, size=10)\n",
      "    values = np.zeros((random_seeds.shape[0]))\n",
      "    for rs,c_rs in zip(random_seeds, range(random_seeds.shape[0])):\n",
      "        x_train, x_val, y_train, y_val = sklearn.cross_validation.train_test_split(\n",
      "                            X, Y, test_size=0.25, random_state=rs)\n",
      "        value = accuracy_for_gnb(x_train=x_train, x_val=x_val, y_train=y_train, y_val=y_val)\n",
      "        values[c_rs] = value\n",
      "            \n",
      "    return np.mean(values)"
     ],
     "language": "python",
     "metadata": {},
     "outputs": [],
     "prompt_number": 595
    },
    {
     "cell_type": "markdown",
     "metadata": {},
     "source": [
      "Now let's calcualte accuracy rates."
     ]
    },
    {
     "cell_type": "code",
     "collapsed": false,
     "input": [
      "# Gaussian Naive Bayes - Random Voxels\n",
      "classify_random(GNB)"
     ],
     "language": "python",
     "metadata": {},
     "outputs": [
      {
       "metadata": {},
       "output_type": "pyout",
       "prompt_number": 596,
       "text": [
        "array([[   1.        ,    0.25833333],\n",
        "       [   5.        ,    0.29722222],\n",
        "       [  10.        ,    0.37777778],\n",
        "       [  20.        ,    0.325     ],\n",
        "       [  50.        ,    0.48611111],\n",
        "       [ 100.        ,    0.45      ]])"
       ]
      }
     ],
     "prompt_number": 596
    },
    {
     "cell_type": "code",
     "collapsed": false,
     "input": [
      "# Gaussian Naive Bayes - Highest Response Voxels\n",
      "print classify_highest(GNB,10)\n",
      "print classify_highest(GNB,50)\n",
      "print classify_highest(GNB,200)"
     ],
     "language": "python",
     "metadata": {},
     "outputs": [
      {
       "output_type": "stream",
       "stream": "stdout",
       "text": [
        "0.313888888889\n",
        "0.45"
       ]
      },
      {
       "output_type": "stream",
       "stream": "stdout",
       "text": [
        "\n",
        "0.45"
       ]
      },
      {
       "output_type": "stream",
       "stream": "stdout",
       "text": [
        "\n"
       ]
      }
     ],
     "prompt_number": 597
    },
    {
     "cell_type": "code",
     "collapsed": false,
     "input": [
      "# Gaussian Naive Bayes - Favorable Variance Voxels\n",
      "print classify_fav(GNB,10)\n",
      "print classify_fav(GNB,50)\n",
      "print classify_fav(GNB,100)\n",
      "print classify_fav(GNB,500)"
     ],
     "language": "python",
     "metadata": {},
     "outputs": [
      {
       "output_type": "stream",
       "stream": "stdout",
       "text": [
        "0.45\n",
        "0.552777777778"
       ]
      },
      {
       "output_type": "stream",
       "stream": "stdout",
       "text": [
        "\n",
        "0.613888888889"
       ]
      },
      {
       "output_type": "stream",
       "stream": "stdout",
       "text": [
        "\n",
        "0.611111111111"
       ]
      },
      {
       "output_type": "stream",
       "stream": "stdout",
       "text": [
        "\n"
       ]
      }
     ],
     "prompt_number": 598
    },
    {
     "cell_type": "code",
     "collapsed": false,
     "input": [
      "# Gaussian Naive Bayes - Favorable Image Variances Voxels\n",
      "print classify_fav_image(GNB,10)\n",
      "print classify_fav_image(GNB,50)\n",
      "print classify_fav_image(GNB,100)\n",
      "print classify_fav_image(GNB,500)"
     ],
     "language": "python",
     "metadata": {},
     "outputs": [
      {
       "output_type": "stream",
       "stream": "stdout",
       "text": [
        "0.597222222222\n",
        "0.855555555556"
       ]
      },
      {
       "output_type": "stream",
       "stream": "stdout",
       "text": [
        "\n",
        "0.836111111111"
       ]
      },
      {
       "output_type": "stream",
       "stream": "stdout",
       "text": [
        "\n",
        "0.858333333333"
       ]
      },
      {
       "output_type": "stream",
       "stream": "stdout",
       "text": [
        "\n"
       ]
      }
     ],
     "prompt_number": 599
    },
    {
     "cell_type": "code",
     "collapsed": false,
     "input": [
      "# Gaussian Naive Bayes - Two Most Important Voxels\n",
      "classify_important(GNB)"
     ],
     "language": "python",
     "metadata": {},
     "outputs": [
      {
       "metadata": {},
       "output_type": "pyout",
       "prompt_number": 600,
       "text": [
        "0.73055555555555562"
       ]
      }
     ],
     "prompt_number": 600
    },
    {
     "cell_type": "code",
     "collapsed": false,
     "input": [
      "# Gaussian Naive Bayes - Preselected Voxels\n",
      "classify_preselected(GNB)"
     ],
     "language": "python",
     "metadata": {},
     "outputs": [
      {
       "metadata": {},
       "output_type": "pyout",
       "prompt_number": 601,
       "text": [
        "0.60555555555555551"
       ]
      }
     ],
     "prompt_number": 601
    },
    {
     "cell_type": "code",
     "collapsed": false,
     "input": [
      "# Gaussian Naive Bayes - Preselected Voxels - Limited to Image Types 2 and 3\n",
      "classify_preselected2(GNB)"
     ],
     "language": "python",
     "metadata": {},
     "outputs": [
      {
       "metadata": {},
       "output_type": "pyout",
       "prompt_number": 602,
       "text": [
        "0.91666666666666663"
       ]
      }
     ],
     "prompt_number": 602
    },
    {
     "cell_type": "markdown",
     "metadata": {},
     "source": [
      "## Bernoulli Naive Bayes Classifier\n",
      "\n",
      "Let's start by writing a BNB function"
     ]
    },
    {
     "cell_type": "code",
     "collapsed": false,
     "input": [
      "# Bernoulli Naive Bayes Classifier Function (returns the mean accuracy)\n",
      "\n",
      "def accuracy_for_bnb(x_train, x_val, y_train, y_val):\n",
      "    bnb = BernoulliNB()\n",
      "    bnb.fit(x_train, y_train)\n",
      "    y_hat = bnb.predict(x_val)\n",
      "    return sklearn.metrics.accuracy_score(y_val, y_hat, normalize=True)\n",
      "\n",
      "def BNB(X,Y):\n",
      "    random_seeds = np.random.randint(1000, size=10)\n",
      "    values = np.zeros((random_seeds.shape[0]))\n",
      "    for rs,c_rs in zip(random_seeds, range(random_seeds.shape[0])):\n",
      "        x_train, x_val, y_train, y_val = sklearn.cross_validation.train_test_split(\n",
      "                            X, Y, test_size=0.25, random_state=rs)\n",
      "        value = accuracy_for_bnb(x_train=x_train, x_val=x_val, y_train=y_train, y_val=y_val)\n",
      "        values[c_rs] = value\n",
      "            \n",
      "    return np.mean(values)"
     ],
     "language": "python",
     "metadata": {},
     "outputs": [],
     "prompt_number": 603
    },
    {
     "cell_type": "markdown",
     "metadata": {},
     "source": [
      "Now let's calcualte accuracy rates."
     ]
    },
    {
     "cell_type": "code",
     "collapsed": false,
     "input": [
      "# Bernoulli Naive Bayes - Random Voxels\n",
      "classify_random(BNB)"
     ],
     "language": "python",
     "metadata": {},
     "outputs": [
      {
       "metadata": {},
       "output_type": "pyout",
       "prompt_number": 604,
       "text": [
        "array([[   1.        ,    0.36944444],\n",
        "       [   5.        ,    0.30555556],\n",
        "       [  10.        ,    0.30833333],\n",
        "       [  20.        ,    0.22777778],\n",
        "       [  50.        ,    0.35555556],\n",
        "       [ 100.        ,    0.39722222]])"
       ]
      }
     ],
     "prompt_number": 604
    },
    {
     "cell_type": "code",
     "collapsed": false,
     "input": [
      "# Bernoulli Naive Bayes - Highest Response Voxels\n",
      "print classify_highest(BNB,10)\n",
      "print classify_highest(BNB,50)\n",
      "print classify_highest(BNB,200)"
     ],
     "language": "python",
     "metadata": {},
     "outputs": [
      {
       "output_type": "stream",
       "stream": "stdout",
       "text": [
        "0.297222222222\n",
        "0.355555555556"
       ]
      },
      {
       "output_type": "stream",
       "stream": "stdout",
       "text": [
        "\n",
        "0.377777777778"
       ]
      },
      {
       "output_type": "stream",
       "stream": "stdout",
       "text": [
        "\n"
       ]
      }
     ],
     "prompt_number": 605
    },
    {
     "cell_type": "code",
     "collapsed": false,
     "input": [
      "# Bernoulli Naive Bayes - Favorable Variance Voxels\n",
      "print classify_fav(BNB,10)\n",
      "print classify_fav(BNB,50)\n",
      "print classify_fav(BNB,100)\n",
      "print classify_fav(BNB,500)"
     ],
     "language": "python",
     "metadata": {},
     "outputs": [
      {
       "output_type": "stream",
       "stream": "stdout",
       "text": [
        "0.3\n",
        "0.413888888889"
       ]
      },
      {
       "output_type": "stream",
       "stream": "stdout",
       "text": [
        "\n",
        "0.388888888889"
       ]
      },
      {
       "output_type": "stream",
       "stream": "stdout",
       "text": [
        "\n",
        "0.502777777778"
       ]
      },
      {
       "output_type": "stream",
       "stream": "stdout",
       "text": [
        "\n"
       ]
      }
     ],
     "prompt_number": 606
    },
    {
     "cell_type": "code",
     "collapsed": false,
     "input": [
      "# Bernoulli Naive Bayes - Favorable Image Variances Voxels\n",
      "print classify_fav_image(BNB,10)\n",
      "print classify_fav_image(BNB,50)\n",
      "print classify_fav_image(BNB,100)\n",
      "print classify_fav_image(BNB,500)"
     ],
     "language": "python",
     "metadata": {},
     "outputs": [
      {
       "output_type": "stream",
       "stream": "stdout",
       "text": [
        "0.425\n",
        "0.561111111111"
       ]
      },
      {
       "output_type": "stream",
       "stream": "stdout",
       "text": [
        "\n",
        "0.711111111111"
       ]
      },
      {
       "output_type": "stream",
       "stream": "stdout",
       "text": [
        "\n",
        "0.711111111111"
       ]
      },
      {
       "output_type": "stream",
       "stream": "stdout",
       "text": [
        "\n"
       ]
      }
     ],
     "prompt_number": 607
    },
    {
     "cell_type": "code",
     "collapsed": false,
     "input": [
      "# Bernoulli Naive Bayes - Two Most Important Voxels\n",
      "classify_important(BNB)"
     ],
     "language": "python",
     "metadata": {},
     "outputs": [
      {
       "metadata": {},
       "output_type": "pyout",
       "prompt_number": 608,
       "text": [
        "0.52222222222222225"
       ]
      }
     ],
     "prompt_number": 608
    },
    {
     "cell_type": "code",
     "collapsed": false,
     "input": [
      "# Bernoulli Naive Bayes - Preselected Voxels\n",
      "classify_preselected(BNB)"
     ],
     "language": "python",
     "metadata": {},
     "outputs": [
      {
       "metadata": {},
       "output_type": "pyout",
       "prompt_number": 609,
       "text": [
        "0.55833333333333335"
       ]
      }
     ],
     "prompt_number": 609
    },
    {
     "cell_type": "code",
     "collapsed": false,
     "input": [
      "# Bernoulli Naive Bayes - Preselected Voxels - Limited to Image Types 2 and 3\n",
      "classify_preselected2(BNB)"
     ],
     "language": "python",
     "metadata": {},
     "outputs": [
      {
       "metadata": {},
       "output_type": "pyout",
       "prompt_number": 610,
       "text": [
        "0.80833333333333335"
       ]
      }
     ],
     "prompt_number": 610
    },
    {
     "cell_type": "heading",
     "level": 1,
     "metadata": {},
     "source": [
      "Summary of Accuracies"
     ]
    },
    {
     "cell_type": "code",
     "collapsed": false,
     "input": [
      "accuracies = np.zeros((7,6))\n",
      "\n",
      "accuracies[0,0] = classify_random_max(KNN)\n",
      "accuracies[1,0] = (classify_highest(KNN,10)+classify_highest(KNN,50)+classify_highest(KNN,200))/3\n",
      "accuracies[2,0] = (classify_fav(KNN,10)+classify_fav(KNN,50)+classify_fav(KNN,100)+classify_fav(KNN,500))/4\n",
      "accuracies[3,0] = (classify_fav_image(KNN,10)+classify_fav_image(KNN,50)+classify_fav_image(KNN,100)+classify_fav_image(KNN,500))/4\n",
      "accuracies[4,0] = classify_important(KNN)\n",
      "accuracies[5,0] = classify_preselected(KNN)\n",
      "accuracies[6,0] = classify_preselected2(KNN)\n",
      "\n",
      "accuracies[0,1] = classify_random_max(DT)\n",
      "accuracies[1,1] = (classify_highest(DT,10)+classify_highest(DT,50)+classify_highest(DT,200))/3\n",
      "accuracies[2,1] = (classify_fav(DT,10)+classify_fav(DT,50)+classify_fav(DT,100)+classify_fav(DT,500))/4\n",
      "accuracies[3,1] = (classify_fav_image(DT,10)+classify_fav_image(DT,50)+classify_fav_image(DT,100)+classify_fav_image(DT,500))/4\n",
      "accuracies[4,1] = classify_important(DT)\n",
      "accuracies[5,1] = classify_preselected(DT)\n",
      "accuracies[6,1] = classify_preselected2(DT)\n",
      "\n",
      "accuracies[0,2] = classify_random_max(RF)\n",
      "accuracies[1,2] = (classify_highest(RF,10)+classify_highest(RF,50)+classify_highest(RF,200))/3\n",
      "accuracies[2,2] = (classify_fav(RF,10)+classify_fav(RF,50)+classify_fav(RF,100)+classify_fav(RF,500))/4\n",
      "accuracies[3,2] = (classify_fav_image(RF,10)+classify_fav_image(RF,50)+classify_fav_image(RF,100)+classify_fav_image(RF,500))/4\n",
      "accuracies[4,2] = classify_important(RF)\n",
      "accuracies[5,2] = classify_preselected(RF)\n",
      "accuracies[6,2] = classify_preselected2(RF)\n",
      "\n",
      "accuracies[0,3] = classify_random_max(SVM)\n",
      "accuracies[1,3] = (classify_highest(SVM,10)+classify_highest(SVM,50)+classify_highest(SVM,200))/3\n",
      "accuracies[2,3] = (classify_fav(SVM,10)+classify_fav(SVM,50)+classify_fav(SVM,100)+classify_fav(SVM,500))/4\n",
      "accuracies[3,3] = (classify_fav_image(SVM,10)+classify_fav_image(SVM,50)+classify_fav_image(SVM,100)+classify_fav_image(SVM,500))/4\n",
      "accuracies[4,3] = classify_important(SVM)\n",
      "accuracies[5,3] = classify_preselected(SVM)\n",
      "accuracies[6,3] = classify_preselected2(SVM)\n",
      "\n",
      "accuracies[0,4] = classify_random_max(GNB)\n",
      "accuracies[1,4] = (classify_highest(GNB,10)+classify_highest(GNB,50)+classify_highest(GNB,200))/3\n",
      "accuracies[2,4] = (classify_fav(GNB,10)+classify_fav(GNB,50)+classify_fav(GNB,100)+classify_fav(GNB,500))/4\n",
      "accuracies[3,4] = (classify_fav_image(GNB,10)+classify_fav_image(GNB,50)+classify_fav_image(GNB,100)+classify_fav_image(GNB,500))/4\n",
      "accuracies[4,4] = classify_important(GNB)\n",
      "accuracies[5,4] = classify_preselected(GNB)\n",
      "accuracies[6,4] = classify_preselected2(GNB)\n",
      "\n",
      "accuracies[0,5] = classify_random_max(BNB)\n",
      "accuracies[1,5] = (classify_highest(BNB,10)+classify_highest(BNB,50)+classify_highest(BNB,200))/3\n",
      "accuracies[2,5] = (classify_fav(BNB,10)+classify_fav(BNB,50)+classify_fav(BNB,100)+classify_fav(RF,500))/4\n",
      "accuracies[3,5] = (classify_fav_image(BNB,10)+classify_fav_image(BNB,50)+classify_fav_image(BNB,100)+classify_fav_image(BNB,500))/4\n",
      "accuracies[4,5] = classify_important(BNB)\n",
      "accuracies[5,5] = classify_preselected(BNB)\n",
      "accuracies[6,5] = classify_preselected2(BNB)\n"
     ],
     "language": "python",
     "metadata": {},
     "outputs": [],
     "prompt_number": 611
    },
    {
     "cell_type": "code",
     "collapsed": false,
     "input": [
      "accuraciesdf = pd.DataFrame(accuracies, columns=['K-Nearest Neighbors', 'Decision Tree', 'Random Forest', \n",
      "                                                 'Support Vector Machine','Gaussian Naive Bayes','Bernoulli Naive Bayes']);\n",
      "accuraciesdf.index=['Random','Highest Response','Favorable Variance','Favorable Image Variance',\n",
      "                    'Important Features','Preselected','Preselected & Narrowed'];\n",
      "ax = accuraciesdf.plot(kind = 'bar');\n",
      "ax.set_xticklabels(['Random','Highest Response','Favorable Variance','Favorable Image Variance',\n",
      "                    'Important Features','Preselected','Preselected & Narrowed'], rotation=45, horizontalalignment='right');\n",
      "plt.title('Accuracies By Voxel Selection Method');\n",
      "plt.ylabel('Accuracy');"
     ],
     "language": "python",
     "metadata": {},
     "outputs": [
      {
       "metadata": {},
       "output_type": "display_data",
       "png": "[encoded data removed]",
       "text": [
        "<matplotlib.figure.Figure at 0x40767128>"
       ]
      }
     ],
     "prompt_number": 646
    },
    {
     "cell_type": "code",
     "collapsed": false,
     "input": [
      "accuraciesdf_t = accuraciesdf.transpose();\n",
      "ax = accuraciesdf_t.plot(kind = 'bar');\n",
      "ax.set_xticklabels(['K-Nearest Neighbors', 'Decision Tree', 'Random Forest','Support Vector Machine','Gaussian Naive Bayes',\n",
      "                    'Bernoulli Naive Bayes'], rotation=45, horizontalalignment='right');\n",
      "ax.legend(loc='center left', bbox_to_anchor=(1, 0.5));\n",
      "plt.title('Accuracies By Classifier');\n",
      "plt.ylabel('Accuracy');"
     ],
     "language": "python",
     "metadata": {},
     "outputs": [
      {
       "metadata": {},
       "output_type": "display_data",
       "png": "[encoded data removed]",
       "text": [
        "<matplotlib.figure.Figure at 0x38f63128>"
       ]
      }
     ],
     "prompt_number": 633
    },
    {
     "cell_type": "markdown",
     "metadata": {},
     "source": [
      "## Final Analysis\n",
      "My results were of mixed quality.  Many selection methods performed poorly, including random selection, highest response, and favorable variance.  I was surprised by that my favorable variance method did so poorly, worse than even random selection!  However, selection by favorable image variance was much better than random selection, almost matching the neuroscientist preselected voxels.  Another surprise was how well the important features worked.  I did not think that two voxels alone could acheive an accuracy of 78%!\n",
      "\n",
      "Another surprise was how poorly the support vector machine performed, the worst of any classifier.  I expected the SVM to perform well because it is know for handling a high feature dimensions space, as is the case here where there are 22,770 potential features.  However, the Gaussian Naive Bayes classifier seems to be the ideal classifier for this task.\n",
      "\n",
      "Naturally, the greatest accuracies were acheived using the preselected voxels after the data was narrowed down to only image types 2 and 3. However, this test had an unfair advantage in that the image types were narrowed down to 2, meaning that a 50% accuracy rate is easily acheived by randomly guessing classes.  Regardless, when we do cheat in this manner, we break the 90% accuracy rate.  Too bad we couldn't do so without the help of prior knowledge.\n"
     ]
    },
    {
     "cell_type": "code",
     "collapsed": false,
     "input": [],
     "language": "python",
     "metadata": {},
     "outputs": []
    }
   ],
   "metadata": {}
  }
 ]
}